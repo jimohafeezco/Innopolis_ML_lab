{
  "nbformat": 4,
  "nbformat_minor": 0,
  "metadata": {
    "colab": {
      "name": "Week5_solution.ipynb",
      "provenance": [],
      "collapsed_sections": []
    },
    "kernelspec": {
      "name": "python3",
      "display_name": "Python 3"
    }
  },
  "cells": [
    {
      "cell_type": "markdown",
      "metadata": {
        "id": "99rRX08PIxHV",
        "colab_type": "text"
      },
      "source": [
        "![alt text](https://encrypted-tbn0.gstatic.com/images?q=tbn:ANd9GcRjFm003pSAOtHmnUm7e--Xquwo90Hp5-U_3wSZrkChGz4tQYWZ)\n",
        "# Introduction to Machine Learning\n",
        "##Lab 5: Support Vector Machines\n",
        "\n",
        "It this lab we will be implementing some parts of SVM algorithm.\n",
        "\n",
        "\n",
        "Refer to [these lecture notes](http://cs229.stanford.edu/notes/cs229-notes3.pdf) for better understanding SVM and navigating through the code."
      ]
    },
    {
      "cell_type": "code",
      "metadata": {
        "id": "IMji1HTYIClm",
        "colab_type": "code",
        "colab": {}
      },
      "source": [
        "import numpy as np\n",
        "from scipy.optimize import minimize, LinearConstraint, BFGS\n",
        "from matplotlib import pyplot as plt\n",
        "from sklearn.datasets.samples_generator import make_blobs, make_moons"
      ],
      "execution_count": 0,
      "outputs": []
    },
    {
      "cell_type": "markdown",
      "metadata": {
        "id": "Zjl8CEz8SZrS",
        "colab_type": "text"
      },
      "source": [
        "Let's define two types of kernels: <br>\n",
        "Linear:\n",
        "$K(x, z)=x^{T} z$\n",
        "<br>\n",
        "and Poynomial:\n",
        "$K(x, z)=\\left(x^{T} z+c\\right)^{3}$ <br>\n",
        "Pay attention that these formulas are for two vectors, and we need to define kernel functions for x and z which are matrices (*n_samples X n_features*). So, as an output we want to return a matrix (*n_samples X n_samples*) where each value is a kernel applied to a pair of observations of x and z."
      ]
    },
    {
      "cell_type": "code",
      "metadata": {
        "id": "1konIQtHIExq",
        "colab_type": "code",
        "colab": {}
      },
      "source": [
        "def linear_kernel(x, z):\n",
        "    \"\"\"\n",
        "    linear kernel <x,z>\n",
        "    returns scalar - output of the kernel\n",
        "    x, z - vectors / matrices\n",
        "    \"\"\"\n",
        "    ### START CODE HERE ###\n",
        "    return np.dot(x, z.T)\n",
        "    ### END CODE HERE ###\n",
        "\n",
        "\n",
        "def polynomial_kernel(x, z):\n",
        "    \"\"\"\n",
        "    polynomial kernel (<x,z> + c)^3 with degree = 3 and c=1\n",
        "    returns scalar - output of the kernel\n",
        "    x, z - vectors / ndarrays\n",
        "    \"\"\"\n",
        "    ### END CODE HERE ###\n",
        "    dot_product = np.dot(x, z.T)\n",
        "    dot_product = (dot_product + 1) ** 3\n",
        "    return dot_product\n",
        "    ### END CODE HERE ###"
      ],
      "execution_count": 0,
      "outputs": []
    },
    {
      "cell_type": "code",
      "metadata": {
        "id": "KRNp6poLX92_",
        "colab_type": "code",
        "outputId": "f851c5ea-2ff7-4007-f0b5-802be4832817",
        "colab": {
          "base_uri": "https://localhost:8080/",
          "height": 34
        }
      },
      "source": [
        "def test_linear_kernel():\n",
        "    a = np.array([1,2,3])\n",
        "    aa = np.array([1,2,3,4,5,6]).reshape(-1,2)\n",
        "    aa_result = np.array([[ 5, 11, 17],\n",
        "                           [11, 25, 39],\n",
        "                           [17, 39, 61]])\n",
        "    if linear_kernel(a,a) == 14 and np.array_equal(linear_kernel(aa,aa), aa_result):\n",
        "        print(\"Linear kernel test passed\")\n",
        "    else:\n",
        "        print(\"Linear kernel test failed\")\n",
        "\n",
        "test_linear_kernel()"
      ],
      "execution_count": 0,
      "outputs": [
        {
          "output_type": "stream",
          "text": [
            "Linear kernel test passed\n"
          ],
          "name": "stdout"
        }
      ]
    },
    {
      "cell_type": "code",
      "metadata": {
        "id": "N_33Qhb8dpzX",
        "colab_type": "code",
        "outputId": "6daa6b75-8d05-4445-9b6b-55792758318a",
        "colab": {
          "base_uri": "https://localhost:8080/",
          "height": 34
        }
      },
      "source": [
        "def test_poly_kernel():\n",
        "    a = np.array([1,2,3])\n",
        "    aa = np.array([1,2,3,4,5,6]).reshape(-1,2)\n",
        "    aa_result = np.array([[216, 1728, 5832],\n",
        "                          [1728, 17576, 64000],\n",
        "                          [5832, 64000, 238328]])    \n",
        "    if polynomial_kernel(a,a) == 3375 and np.array_equal(polynomial_kernel(aa,aa), aa_result):\n",
        "        print(\"Polynomial kernel test passed\")\n",
        "    else:\n",
        "        print(\"Polynomial kernel test failed\")\n",
        "\n",
        "test_poly_kernel()"
      ],
      "execution_count": 0,
      "outputs": [
        {
          "output_type": "stream",
          "text": [
            "Polynomial kernel test passed\n"
          ],
          "name": "stdout"
        }
      ]
    },
    {
      "cell_type": "markdown",
      "metadata": {
        "id": "YMtlPO8ALhIQ",
        "colab_type": "text"
      },
      "source": [
        "This is the function we want to optimize, together with constraints:\n",
        "\n",
        "$\n",
        "\\begin{array}{ll}{\\max _{\\alpha}} & {W(\\alpha)=\\sum_{i=1}^{m} \\alpha_{i}-\\frac{1}{2} \\sum_{i, j=1}^{m} y^{(i)} y^{(j)} \\alpha_{i} \\alpha_{j}\\left\\langle x^{(i)}, x^{(j)}\\right\\rangle} \\\\ {\\text { s.t. }} & {\\alpha_{i} \\geq 0, \\quad i=1, \\ldots, m} \\\\ {} & {\\sum_{i=1}^{m} \\alpha_{i} y^{(i)}=0}\\end{array}$\n",
        "\n",
        "Implement the above function. Note that we are using the optimizer which **minimizes** the function, so you need to account for this."
      ]
    },
    {
      "cell_type": "code",
      "metadata": {
        "id": "4RiMBTecIEU0",
        "colab_type": "code",
        "colab": {}
      },
      "source": [
        "def function_to_optimize(alphas, y, x, kernel):\n",
        "    \"\"\"\n",
        "    write here the function you are going to optimize\n",
        "    note that we are using the optimizer which minimizes the function, so you need to account for this\n",
        "    returns value of the function calculated based on parameters\n",
        "    inputs:\n",
        "    alphas - 1D array\n",
        "    y - labels, 1D array\n",
        "    x - data of shape(n_samples, n_features)\n",
        "    kernel - callable, defines kernel function to use\n",
        "    \"\"\"\n",
        "    ### START CODE HERE ###\n",
        "    alphas = alphas.reshape(len(alphas), 1)\n",
        "    y = y.reshape(len(y), 1)\n",
        "    y_n = np.dot(y, y.T)\n",
        "    alphas_n = np.dot(alphas, alphas.T)\n",
        "    x_n = kernel(x, x)\n",
        "    func = np.sum(alphas) - 0.5 * np.sum(y_n * alphas_n * x_n)\n",
        "    return -func\n",
        "    ### END CODE HERE ###"
      ],
      "execution_count": 0,
      "outputs": []
    },
    {
      "cell_type": "code",
      "metadata": {
        "id": "hv1aYT5AfRgA",
        "colab_type": "code",
        "outputId": "237b3d5a-e9cd-4e23-e791-a3de4ff5f7b9",
        "colab": {
          "base_uri": "https://localhost:8080/",
          "height": 34
        }
      },
      "source": [
        "def test_optimize():\n",
        "    alphas_t = np.array([1,2,3])\n",
        "    y_t = np.array([4,5,6])\n",
        "    x_t = np.array([1,2,3,4,5,6]).reshape(-1,2)\n",
        "    if function_to_optimize(alphas_t,y_t, x_t, linear_kernel) == 19850.0:\n",
        "        print(\"Optimize test passed\")\n",
        "    else:\n",
        "        print(\"Optimize test failed\")\n",
        "\n",
        "test_optimize()"
      ],
      "execution_count": 0,
      "outputs": [
        {
          "output_type": "stream",
          "text": [
            "Optimize test passed\n"
          ],
          "name": "stdout"
        }
      ]
    },
    {
      "cell_type": "markdown",
      "metadata": {
        "id": "0dZp53V4VtwU",
        "colab_type": "text"
      },
      "source": [
        "Now, if alphas are found, we can calculate w and b:\n",
        "\n",
        "$w=\\sum_{i=1}^{m} \\alpha_{i} y^{(i)} x^{(i)}$\n",
        "<br><br>\n",
        "Next, SVM assumes:<br>\n",
        "$w x+b=0$<br>\n",
        "$w x_{s p}+b=1~~~(x_{s p} \\text { is a support vector with } y=1) $ <br>\n",
        "$w x_{s n}+b=-1 \\quad\\left(x_{s n} \\text { is a support vector with } y=-1)\\right.$\n",
        "\n",
        "\n",
        "Hence, $b=1-w x_{s p},$"
      ]
    },
    {
      "cell_type": "code",
      "metadata": {
        "id": "dHWzSDzqIXDj",
        "colab_type": "code",
        "colab": {}
      },
      "source": [
        "def find_support_vector_inds(alphas, thresh):\n",
        "    \"\"\"\n",
        "    returns array of indices of all support vectors, i.e. those for which alpha > 0\n",
        "    instead of zero we are using some threshold to account for roundoff errors\n",
        "    alphas - array of solutions\n",
        "    thresh - threshold\n",
        "    \"\"\"\n",
        "    return np.where(alphas > thresh)[0]\n",
        "\n",
        "\n",
        "def find_w_b(alphas, y, x, sv_inds, kernel, thresh, C):\n",
        "    \"\"\"\n",
        "    calculates w and b after alphas are found. w is calculated only if we are using linear kernel\n",
        "    w is a vector, b is a scalar\n",
        "    for calculating b, recall that if x_pos is a positive support vector (with y=1), \n",
        "    then w*x_pos+b=1, hence b = 1 - w*x_pos      \n",
        "    x_pos is a positive support vectors => lying *exactly* on the margin\n",
        "    Recall that if sample is on correct side, then alpha = 0, if it's exactly on the margin, then 0 < alpha < C,\n",
        "    if it's on wrong side, alpha = C. So, chose any of those for which 0 < alpha < C, accounting for roundoff errors (!)\n",
        "    inputs:\n",
        "    alphas - array of solutions, 1D array\n",
        "    y - labels, 1D array\n",
        "    x - data of shape(n_samples, n_features)\n",
        "    sv_inds - indices of support vectors\n",
        "    kernel - callable, defines kernel function to use\n",
        "    thresh - threshold\n",
        "    C - constant\n",
        "    \"\"\"\n",
        "    w = None    \n",
        "    ### START CODE HERE ###\n",
        "    # find w if it's a linear case\n",
        "    if kernel == linear_kernel:\n",
        "        w = np.zeros(x[0, :].shape)\n",
        "        for i in sv_inds:\n",
        "            w += alphas[i] * y[i] * x[i, :]\n",
        "    # find b. first find index of any positive support vector\n",
        "    pos_sv_ind = ((y == 1) & (alphas > thresh) & (alphas < (C - 1))).nonzero()[0][0]    \n",
        "    # calculate w*x_pos\n",
        "    w_pos = 0\n",
        "    for i in sv_inds:\n",
        "        w_pos += alphas[i] * y[i] * (kernel(x[i, :], x[pos_sv_ind, :]))    \n",
        "    # calculate b    \n",
        "    b = 1 - w_pos\n",
        "    ### END CODE HERE ###\n",
        "    return w, b\n"
      ],
      "execution_count": 0,
      "outputs": []
    },
    {
      "cell_type": "markdown",
      "metadata": {
        "id": "NwovCd3aX4o3",
        "colab_type": "text"
      },
      "source": [
        "Finally, we are able to make our predictions: \n",
        "\n",
        "$\\begin{aligned} w^{T} x+b &=\\left(\\sum_{i=1}^{m} \\alpha_{i} y^{(i)} x^{(i)}\\right)^{T} x+b \\\\ &=\\sum_{i=1}^{m} \\alpha_{i} y^{(i)}\\left\\langle x^{(i)}, x\\right\\rangle+ b \\end{aligned}$"
      ]
    },
    {
      "cell_type": "code",
      "metadata": {
        "id": "3rQd2WhzIdCs",
        "colab_type": "code",
        "colab": {}
      },
      "source": [
        "def predict(alphas, y, x, x_test, b, sv_inds, kernel):\n",
        "    \"\"\"\n",
        "    make predictions for x_test\n",
        "    returns array of predictions (1 or -1)\n",
        "    alphas - array of solutions, 1D array\n",
        "    y - labels, 1D array\n",
        "    x - data of shape(n_samples, n_features)\n",
        "    x_test - data for which predictions should be made\n",
        "    b - calculated b\n",
        "    sv_inds - indices of support vectors\n",
        "    kernel - callable, defines kernel function to use\n",
        "    \"\"\"    \n",
        "    predictions = np.zeros(shape=(len(x_test),))\n",
        "    ### START CODE HERE ###\n",
        "    for j, sample in enumerate(x_test):\n",
        "        pred = b\n",
        "        for i in sv_inds:\n",
        "            pred += alphas[i] * y[i] * (kernel(x[i, :], sample))\n",
        "        predictions[j] = 1 if pred > 0 else -1\n",
        "    ### END CODE HERE ###    \n",
        "    return predictions"
      ],
      "execution_count": 0,
      "outputs": []
    },
    {
      "cell_type": "code",
      "metadata": {
        "id": "yKx0vF418VWM",
        "colab_type": "code",
        "outputId": "fcdca3a6-e986-4430-d16a-22b26eb65735",
        "colab": {
          "base_uri": "https://localhost:8080/",
          "height": 1000
        }
      },
      "source": [
        "# this is the main function which brings it all together\n",
        "# examine it to understand what's happening in each line\n",
        "def minimize_and_plot(X, Y, kernel, C, thresh):\n",
        "    n = len(Y)\n",
        "    # arguments to pass to minimize function\n",
        "    args = (Y, X, kernel)\n",
        "\n",
        "    # define the constraints (page 20) as instances of scipy.optimize.LinearConstraint\n",
        "    # constraints each alpha to be from 0 to C\n",
        "    alpha_constr = LinearConstraint(np.identity(n), lb=0, ub=C)\n",
        "    # constraints sum of (alpha * y)\n",
        "    alpha_y_constr = LinearConstraint(Y, lb=0, ub=0)\n",
        "\n",
        "    print(\"Starting computations...\")\n",
        "    # minimization. we are using ready QP solver 'trust-constr'\n",
        "    result = minimize(fun=function_to_optimize, method='trust-constr', x0=np.empty(shape=(n,)), jac='2-point',\n",
        "                      hess=BFGS(exception_strategy='skip_update'), constraints=[alpha_constr, alpha_y_constr],\n",
        "                      args=args)\n",
        "    # prints the results. If status==0, then the optimizer failed to find the optimal value\n",
        "    print(\"status:\", result.status)\n",
        "    print(\"message:\", result.message)\n",
        "\n",
        "    alphas = result.x\n",
        "    # indexes of support vectors\n",
        "    sv_inds = find_support_vector_inds(alphas, thresh)\n",
        "    print(\"alphas of support vectors:\", '\\n', alphas[sv_inds])\n",
        "\n",
        "    w, b = find_w_b(alphas, Y, X, sv_inds, kernel, thresh, C)\n",
        "\n",
        "    # create a mesh to plot points and predictions\n",
        "    x_min, x_max = X[:, 0].min() - 1, X[:, 0].max() + 1\n",
        "    y_min, y_max = X[:, 1].min() - 1, X[:, 1].max() + 1\n",
        "    xrange, yrange = np.meshgrid(np.arange(x_min, x_max, 0.02),\n",
        "                                 np.arange(y_min, y_max, 0.02))\n",
        "    # form a grid by taking each point point from x and y range\n",
        "    grid = np.c_[xrange.ravel(), yrange.ravel()]\n",
        "    grid = grid.astype(float)\n",
        "    # make predictions for each point of the grid\n",
        "    grid_predictions = predict(alphas, Y, X, grid, b, sv_inds, kernel)\n",
        "    grid_predictions = grid_predictions.reshape(xrange.shape)\n",
        "\n",
        "    # plot color grid points according to the prediction made for each point\n",
        "    plt.contourf(xrange, yrange, grid_predictions, cmap='copper', alpha=0.8)\n",
        "    # plot initial data points\n",
        "    plt.scatter(X[:, 0], X[:, 1], c=Y, s=50, cmap='autumn')\n",
        "    # plot support vectors\n",
        "    plt.scatter(X[sv_inds, 0], X[sv_inds, 1], s=3, c=\"black\")\n",
        "\n",
        "    if w is not None:  # print lines on which support vectors should reside\n",
        "        x_plot = np.linspace(x_min, x_max - 0.02, 1000)\n",
        "        y_plot_1 = (- w[0] * x_plot - b + 1) / w[1]\n",
        "        y_plot_2 = (- w[0] * x_plot - b - 1) / w[1]\n",
        "        plt.plot(x_plot, y_plot_1)\n",
        "        plt.plot(x_plot, y_plot_2)\n",
        "\n",
        "    plt.title('SVM Results ' + kernel.__name__)\n",
        "    plt.xlabel('x')\n",
        "    plt.ylabel('y')\n",
        "    plt.show()\n",
        "\n",
        "\n",
        "# here we assign values for constants\n",
        "n_samples = 50\n",
        "C_const = 100\n",
        "threshold = 1e-3\n",
        "\n",
        "# generating (almost) linearly separable data, replacing 0 labels with -1\n",
        "X_blob, Y_blob = make_blobs(n_samples=n_samples, centers=2, random_state=0, cluster_std=1.00)\n",
        "Y_blob[Y_blob == 0] = -1\n",
        "# plt.scatter(X_blob[:, 0], X_blob[:, 1], c=Y_blob, s=50, cmap='autumn')\n",
        "# plt.show()\n",
        "minimize_and_plot(X_blob, Y_blob, linear_kernel, C_const, threshold)  # svm with linear kernel\n",
        "minimize_and_plot(X_blob, Y_blob, polynomial_kernel, C_const, threshold)  # svm with polynomial kernel\n",
        "\n",
        "# generating moon-shaped data, replacing 0 labels with -1\n",
        "X_moon, Y_moon = make_moons(n_samples=n_samples, shuffle=False, noise=0.10, random_state=0)\n",
        "Y_moon[Y_moon == 0] = -1\n",
        "# plt.scatter(X_moon[:, 0], X_moon[:, 1], c=Y_moon, s=50, cmap='autumn')\n",
        "# plt.show()\n",
        "minimize_and_plot(X_moon, Y_moon, linear_kernel, C_const, threshold)  # svm with linear kernel\n",
        "minimize_and_plot(X_moon, Y_moon, polynomial_kernel, C_const, threshold)  # svm with polynomial kernel\n"
      ],
      "execution_count": 0,
      "outputs": [
        {
          "output_type": "stream",
          "text": [
            "Starting computations...\n",
            "status: 2\n",
            "message: `xtol` termination condition is satisfied.\n",
            "alphas of support vectors: \n",
            " [ 5.32880861 99.99999365 38.39348819 99.99999504 33.06451688]\n"
          ],
          "name": "stdout"
        },
        {
          "output_type": "display_data",
          "data": {
            "image/png": "[encoded data removed]",
            "text/plain": [
              "<Figure size 432x288 with 1 Axes>"
            ]
          },
          "metadata": {
            "tags": []
          }
        },
        {
          "output_type": "stream",
          "text": [
            "Starting computations...\n",
            "status: 2\n",
            "message: `xtol` termination condition is satisfied.\n",
            "alphas of support vectors: \n",
            " [0.65062548 0.25184053 1.20556264 0.8067763 ]\n"
          ],
          "name": "stdout"
        },
        {
          "output_type": "display_data",
          "data": {
            "image/png": "[encoded data removed]",
            "text/plain": [
              "<Figure size 432x288 with 1 Axes>"
            ]
          },
          "metadata": {
            "tags": []
          }
        },
        {
          "output_type": "stream",
          "text": [
            "Starting computations...\n",
            "status: 2\n",
            "message: `xtol` termination condition is satisfied.\n",
            "alphas of support vectors: \n",
            " [99.99999943 99.999999   99.99999932 99.99999893 99.99999774 87.9148933\n",
            " 68.10759794 99.99999771 99.9999994  99.999999   99.99999902 99.99999855\n",
            " 99.99999657 56.02267672 99.99999742 99.9999974 ]\n"
          ],
          "name": "stdout"
        },
        {
          "output_type": "display_data",
          "data": {
            "image/png": "[encoded data removed]",
            "text/plain": [
              "<Figure size 432x288 with 1 Axes>"
            ]
          },
          "metadata": {
            "tags": []
          }
        },
        {
          "output_type": "stream",
          "text": [
            "Starting computations...\n",
            "status: 2\n",
            "message: `xtol` termination condition is satisfied.\n",
            "alphas of support vectors: \n",
            " [4.20207494 2.01190767 2.52741171 6.16825043 1.94321603 0.62992527]\n"
          ],
          "name": "stdout"
        },
        {
          "output_type": "display_data",
          "data": {
            "image/png": "[encoded data removed]",
            "text/plain": [
              "<Figure size 432x288 with 1 Axes>"
            ]
          },
          "metadata": {
            "tags": []
          }
        }
      ]
    },
    {
      "cell_type": "code",
      "metadata": {
        "id": "XKohTkgxCTQR",
        "colab_type": "code",
        "colab": {}
      },
      "source": [
        ""
      ],
      "execution_count": 0,
      "outputs": []
    }
  ]
}