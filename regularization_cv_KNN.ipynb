{
  "nbformat": 4,
  "nbformat_minor": 0,
  "metadata": {
    "colab": {
      "name": "Lab 4 solutions .ipynb",
      "provenance": [],
      "collapsed_sections": []
    },
    "kernelspec": {
      "name": "python3",
      "display_name": "Python 3"
    }
  },
  "cells": [
    {
      "cell_type": "markdown",
      "metadata": {
        "id": "znk8Kec8oJ4v",
        "colab_type": "text"
      },
      "source": [
        "![alt text](https://encrypted-tbn0.gstatic.com/images?q=tbn:ANd9GcRjFm003pSAOtHmnUm7e--Xquwo90Hp5-U_3wSZrkChGz4tQYWZ)\n",
        "# Introduction to Machine Learning\n",
        "##Lab 4: Regularization, Cross-validation, KNN, Naive Bayes\n",
        "\n",
        "It this lab you will try multiple things. The main outcome should be to see regularization impact. You will also learn to use cross-validation. In addition you will use two more machine learning algorithms: KNN and Naive Bayes.\n"
      ]
    },
    {
      "cell_type": "code",
      "metadata": {
        "id": "G6RzKO2lpdyZ",
        "colab_type": "code",
        "colab": {}
      },
      "source": [
        "import numpy as np\n",
        "import pandas as pd\n",
        "import random\n",
        "import matplotlib.pyplot as plt\n",
        "%matplotlib inline"
      ],
      "execution_count": 0,
      "outputs": []
    },
    {
      "cell_type": "markdown",
      "metadata": {
        "id": "RuzBGQI8obX1",
        "colab_type": "text"
      },
      "source": [
        "## Regularization\n",
        "\n",
        "Let's start from generating data.\n",
        "\n",
        "Define input array with angles from 60° to 300° converted to radians"
      ]
    },
    {
      "cell_type": "code",
      "metadata": {
        "id": "MKnmpR3Nps10",
        "colab_type": "code",
        "outputId": "2008d2a6-d7b2-4e7e-992c-0e1a5fe80bd9",
        "colab": {
          "base_uri": "https://localhost:8080/",
          "height": 286
        }
      },
      "source": [
        "x = np.array([i*np.pi/180 for i in range(60,300,4)])\n",
        "np.random.seed(10)  #Setting seed for reproducability\n",
        "y = np.sin(x) + np.random.normal(0,0.15,len(x))\n",
        "plt.scatter(x, y)"
      ],
      "execution_count": 0,
      "outputs": [
        {
          "output_type": "execute_result",
          "data": {
            "text/plain": [
              "<matplotlib.collections.PathCollection at 0x7f4ccad17048>"
            ]
          },
          "metadata": {
            "tags": []
          },
          "execution_count": 2
        },
        {
          "output_type": "display_data",
          "data": {
            "image/png": "[encoded data removed]",
            "text/plain": [
              "<Figure size 432x288 with 1 Axes>"
            ]
          },
          "metadata": {
            "tags": []
          }
        }
      ]
    },
    {
      "cell_type": "markdown",
      "metadata": {
        "id": "M0R7RTKap96G",
        "colab_type": "text"
      },
      "source": [
        "This function returns polynomial regression coefficiets."
      ]
    },
    {
      "cell_type": "code",
      "metadata": {
        "id": "s_nAZesnp-lv",
        "colab_type": "code",
        "colab": {}
      },
      "source": [
        "from sklearn.linear_model import LinearRegression\n",
        "from sklearn.preprocessing import PolynomialFeatures\n",
        "from sklearn.metrics import mean_squared_error\n",
        "\n",
        "def linear_regression(x, y, power, models_to_plot):\n",
        "    ''' Caclulates polynomial regression\n",
        "    param: x, y - data\n",
        "    param: power - polynom degree\n",
        "    param: models_to_plot - details for visualization process\n",
        "    return: intercept, linear_regression_coeffitients - model coefficients\n",
        "    '''\n",
        "    ### START CODE HERE ###  \n",
        "    #initialize predictors:\n",
        "    poly = PolynomialFeatures(power, include_bias=False)\n",
        "    X_poly = poly.fit_transform(x.reshape(-1, 1))\n",
        "\n",
        "    #Fit the model\n",
        "    linreg = LinearRegression(normalize=True)\n",
        "    linreg.fit(X_poly, y)\n",
        "    y_pred = linreg.predict(X_poly)\n",
        "    \n",
        "    ### END CODE HERE ###\n",
        "    \n",
        "    #Check if a plot is to be made for the entered power\n",
        "    if power in models_to_plot:\n",
        "        plt.subplot(models_to_plot[power])\n",
        "        plt.tight_layout()\n",
        "        plt.scatter(x,y)\n",
        "        plt.plot(x, y_pred, color='r') #calculate y_pred on training dataset\n",
        "        plt.title('Plot for power: %d'%power)\n",
        "\n",
        "    return linreg.intercept_, linreg.coef_"
      ],
      "execution_count": 0,
      "outputs": []
    },
    {
      "cell_type": "markdown",
      "metadata": {
        "id": "zHU2RbXrqmH9",
        "colab_type": "text"
      },
      "source": [
        "Now let's check, that polynomial regression works correctly."
      ]
    },
    {
      "cell_type": "code",
      "metadata": {
        "id": "iPaxABFDqmmW",
        "colab_type": "code",
        "outputId": "754f46fd-2d43-4d1a-a14c-1c2b3aaa24de",
        "colab": {
          "base_uri": "https://localhost:8080/",
          "height": 297
        }
      },
      "source": [
        "#Initialize a dataframe to store the results:\n",
        "col = ['intercept'] + ['coef_x_%d'%i for i in range(1,16)]\n",
        "ind = ['model_pow_%d'%i for i in range(1,16)]\n",
        "coef_matrix_simple = pd.DataFrame(index=ind, columns=col)\n",
        "\n",
        "#Define the powers for which a plot is required:\n",
        "models_to_plot = {1:231,3:232,6:233,9:234,12:235,15:236}\n",
        "\n",
        "#Iterate through all powers and assimilate results\n",
        "for i in range(1,16):\n",
        "    intercept, coef = linear_regression(x, y, power=i, models_to_plot=models_to_plot)\n",
        "    coef_matrix_simple.iloc[i-1,0] = intercept\n",
        "    coef_matrix_simple.iloc[i-1,1:1+len(coef)] = coef"
      ],
      "execution_count": 0,
      "outputs": [
        {
          "output_type": "display_data",
          "data": {
            "image/png": "[encoded data removed]",
            "text/plain": [
              "<Figure size 432x288 with 6 Axes>"
            ]
          },
          "metadata": {
            "tags": []
          }
        }
      ]
    },
    {
      "cell_type": "markdown",
      "metadata": {
        "id": "yFs6bsAs0Mw4",
        "colab_type": "text"
      },
      "source": [
        "Let's look to the coefficients. You should see, that for large degrees coefficients absolute values increase."
      ]
    },
    {
      "cell_type": "code",
      "metadata": {
        "id": "VEzKV6uR0NMo",
        "colab_type": "code",
        "outputId": "18a409b3-d683-4419-fcfd-76ecb9fc4346",
        "colab": {
          "base_uri": "https://localhost:8080/",
          "height": 540
        }
      },
      "source": [
        "coef_matrix_simple"
      ],
      "execution_count": 0,
      "outputs": [
        {
          "output_type": "execute_result",
          "data": {
            "text/html": [
              "<div>\n",
              "<style scoped>\n",
              "    .dataframe tbody tr th:only-of-type {\n",
              "        vertical-align: middle;\n",
              "    }\n",
              "\n",
              "    .dataframe tbody tr th {\n",
              "        vertical-align: top;\n",
              "    }\n",
              "\n",
              "    .dataframe thead th {\n",
              "        text-align: right;\n",
              "    }\n",
              "</style>\n",
              "<table border=\"1\" class=\"dataframe\">\n",
              "  <thead>\n",
              "    <tr style=\"text-align: right;\">\n",
              "      <th></th>\n",
              "      <th>intercept</th>\n",
              "      <th>coef_x_1</th>\n",
              "      <th>coef_x_2</th>\n",
              "      <th>coef_x_3</th>\n",
              "      <th>coef_x_4</th>\n",
              "      <th>coef_x_5</th>\n",
              "      <th>coef_x_6</th>\n",
              "      <th>coef_x_7</th>\n",
              "      <th>coef_x_8</th>\n",
              "      <th>coef_x_9</th>\n",
              "      <th>coef_x_10</th>\n",
              "      <th>coef_x_11</th>\n",
              "      <th>coef_x_12</th>\n",
              "      <th>coef_x_13</th>\n",
              "      <th>coef_x_14</th>\n",
              "      <th>coef_x_15</th>\n",
              "    </tr>\n",
              "  </thead>\n",
              "  <tbody>\n",
              "    <tr>\n",
              "      <th>model_pow_1</th>\n",
              "      <td>1.96286</td>\n",
              "      <td>-0.619575</td>\n",
              "      <td>NaN</td>\n",
              "      <td>NaN</td>\n",
              "      <td>NaN</td>\n",
              "      <td>NaN</td>\n",
              "      <td>NaN</td>\n",
              "      <td>NaN</td>\n",
              "      <td>NaN</td>\n",
              "      <td>NaN</td>\n",
              "      <td>NaN</td>\n",
              "      <td>NaN</td>\n",
              "      <td>NaN</td>\n",
              "      <td>NaN</td>\n",
              "      <td>NaN</td>\n",
              "      <td>NaN</td>\n",
              "    </tr>\n",
              "    <tr>\n",
              "      <th>model_pow_2</th>\n",
              "      <td>1.91406</td>\n",
              "      <td>-0.582551</td>\n",
              "      <td>-0.00595874</td>\n",
              "      <td>NaN</td>\n",
              "      <td>NaN</td>\n",
              "      <td>NaN</td>\n",
              "      <td>NaN</td>\n",
              "      <td>NaN</td>\n",
              "      <td>NaN</td>\n",
              "      <td>NaN</td>\n",
              "      <td>NaN</td>\n",
              "      <td>NaN</td>\n",
              "      <td>NaN</td>\n",
              "      <td>NaN</td>\n",
              "      <td>NaN</td>\n",
              "      <td>NaN</td>\n",
              "    </tr>\n",
              "    <tr>\n",
              "      <th>model_pow_3</th>\n",
              "      <td>-1.0807</td>\n",
              "      <td>3.03157</td>\n",
              "      <td>-1.28553</td>\n",
              "      <td>0.137292</td>\n",
              "      <td>NaN</td>\n",
              "      <td>NaN</td>\n",
              "      <td>NaN</td>\n",
              "      <td>NaN</td>\n",
              "      <td>NaN</td>\n",
              "      <td>NaN</td>\n",
              "      <td>NaN</td>\n",
              "      <td>NaN</td>\n",
              "      <td>NaN</td>\n",
              "      <td>NaN</td>\n",
              "      <td>NaN</td>\n",
              "      <td>NaN</td>\n",
              "    </tr>\n",
              "    <tr>\n",
              "      <th>model_pow_4</th>\n",
              "      <td>-0.265704</td>\n",
              "      <td>1.68692</td>\n",
              "      <td>-0.531752</td>\n",
              "      <td>-0.0356785</td>\n",
              "      <td>0.0139192</td>\n",
              "      <td>NaN</td>\n",
              "      <td>NaN</td>\n",
              "      <td>NaN</td>\n",
              "      <td>NaN</td>\n",
              "      <td>NaN</td>\n",
              "      <td>NaN</td>\n",
              "      <td>NaN</td>\n",
              "      <td>NaN</td>\n",
              "      <td>NaN</td>\n",
              "      <td>NaN</td>\n",
              "      <td>NaN</td>\n",
              "    </tr>\n",
              "    <tr>\n",
              "      <th>model_pow_5</th>\n",
              "      <td>2.9915</td>\n",
              "      <td>-5.11776</td>\n",
              "      <td>4.72461</td>\n",
              "      <td>-1.92856</td>\n",
              "      <td>0.334735</td>\n",
              "      <td>-0.0206533</td>\n",
              "      <td>NaN</td>\n",
              "      <td>NaN</td>\n",
              "      <td>NaN</td>\n",
              "      <td>NaN</td>\n",
              "      <td>NaN</td>\n",
              "      <td>NaN</td>\n",
              "      <td>NaN</td>\n",
              "      <td>NaN</td>\n",
              "      <td>NaN</td>\n",
              "      <td>NaN</td>\n",
              "    </tr>\n",
              "    <tr>\n",
              "      <th>model_pow_6</th>\n",
              "      <td>-2.80155</td>\n",
              "      <td>9.51665</td>\n",
              "      <td>-9.7132</td>\n",
              "      <td>5.22609</td>\n",
              "      <td>-1.55489</td>\n",
              "      <td>0.233099</td>\n",
              "      <td>-0.0136132</td>\n",
              "      <td>NaN</td>\n",
              "      <td>NaN</td>\n",
              "      <td>NaN</td>\n",
              "      <td>NaN</td>\n",
              "      <td>NaN</td>\n",
              "      <td>NaN</td>\n",
              "      <td>NaN</td>\n",
              "      <td>NaN</td>\n",
              "      <td>NaN</td>\n",
              "    </tr>\n",
              "    <tr>\n",
              "      <th>model_pow_7</th>\n",
              "      <td>19.3021</td>\n",
              "      <td>-55.9523</td>\n",
              "      <td>68.9562</td>\n",
              "      <td>-44.6319</td>\n",
              "      <td>16.5148</td>\n",
              "      <td>-3.52814</td>\n",
              "      <td>0.40451</td>\n",
              "      <td>-0.0192269</td>\n",
              "      <td>NaN</td>\n",
              "      <td>NaN</td>\n",
              "      <td>NaN</td>\n",
              "      <td>NaN</td>\n",
              "      <td>NaN</td>\n",
              "      <td>NaN</td>\n",
              "      <td>NaN</td>\n",
              "      <td>NaN</td>\n",
              "    </tr>\n",
              "    <tr>\n",
              "      <th>model_pow_8</th>\n",
              "      <td>43.1676</td>\n",
              "      <td>-137.013</td>\n",
              "      <td>183.825</td>\n",
              "      <td>-133.499</td>\n",
              "      <td>57.6767</td>\n",
              "      <td>-15.2527</td>\n",
              "      <td>2.41654</td>\n",
              "      <td>-0.210019</td>\n",
              "      <td>0.00767667</td>\n",
              "      <td>NaN</td>\n",
              "      <td>NaN</td>\n",
              "      <td>NaN</td>\n",
              "      <td>NaN</td>\n",
              "      <td>NaN</td>\n",
              "      <td>NaN</td>\n",
              "      <td>NaN</td>\n",
              "    </tr>\n",
              "    <tr>\n",
              "      <th>model_pow_9</th>\n",
              "      <td>167.835</td>\n",
              "      <td>-614.513</td>\n",
              "      <td>963.403</td>\n",
              "      <td>-846.437</td>\n",
              "      <td>460.905</td>\n",
              "      <td>-161.849</td>\n",
              "      <td>36.7577</td>\n",
              "      <td>-5.2208</td>\n",
              "      <td>0.421902</td>\n",
              "      <td>-0.0148148</td>\n",
              "      <td>NaN</td>\n",
              "      <td>NaN</td>\n",
              "      <td>NaN</td>\n",
              "      <td>NaN</td>\n",
              "      <td>NaN</td>\n",
              "      <td>NaN</td>\n",
              "    </tr>\n",
              "    <tr>\n",
              "      <th>model_pow_10</th>\n",
              "      <td>137.717</td>\n",
              "      <td>-486.125</td>\n",
              "      <td>726.133</td>\n",
              "      <td>-595.881</td>\n",
              "      <td>293.256</td>\n",
              "      <td>-87.4563</td>\n",
              "      <td>14.5462</td>\n",
              "      <td>-0.806073</td>\n",
              "      <td>-0.138205</td>\n",
              "      <td>0.0262231</td>\n",
              "      <td>-0.00132096</td>\n",
              "      <td>NaN</td>\n",
              "      <td>NaN</td>\n",
              "      <td>NaN</td>\n",
              "      <td>NaN</td>\n",
              "      <td>NaN</td>\n",
              "    </tr>\n",
              "    <tr>\n",
              "      <th>model_pow_11</th>\n",
              "      <td>-74.8552</td>\n",
              "      <td>511.793</td>\n",
              "      <td>-1332.86</td>\n",
              "      <td>1870.4</td>\n",
              "      <td>-1614.14</td>\n",
              "      <td>913.894</td>\n",
              "      <td>-350.101</td>\n",
              "      <td>91.4441</td>\n",
              "      <td>-16.0522</td>\n",
              "      <td>1.8119</td>\n",
              "      <td>-0.118794</td>\n",
              "      <td>0.00343755</td>\n",
              "      <td>NaN</td>\n",
              "      <td>NaN</td>\n",
              "      <td>NaN</td>\n",
              "      <td>NaN</td>\n",
              "    </tr>\n",
              "    <tr>\n",
              "      <th>model_pow_12</th>\n",
              "      <td>-339.351</td>\n",
              "      <td>1867.34</td>\n",
              "      <td>-4421.07</td>\n",
              "      <td>6007.89</td>\n",
              "      <td>-5247.6</td>\n",
              "      <td>3119.4</td>\n",
              "      <td>-1300</td>\n",
              "      <td>384.296</td>\n",
              "      <td>-80.275</td>\n",
              "      <td>11.5951</td>\n",
              "      <td>-1.10269</td>\n",
              "      <td>0.0621659</td>\n",
              "      <td>-0.00157532</td>\n",
              "      <td>NaN</td>\n",
              "      <td>NaN</td>\n",
              "      <td>NaN</td>\n",
              "    </tr>\n",
              "    <tr>\n",
              "      <th>model_pow_13</th>\n",
              "      <td>3198.29</td>\n",
              "      <td>-17782.3</td>\n",
              "      <td>44559.6</td>\n",
              "      <td>-66569.1</td>\n",
              "      <td>66116.5</td>\n",
              "      <td>-46091.3</td>\n",
              "      <td>23205.3</td>\n",
              "      <td>-8546.84</td>\n",
              "      <td>2304.55</td>\n",
              "      <td>-449.709</td>\n",
              "      <td>61.7953</td>\n",
              "      <td>-5.66855</td>\n",
              "      <td>0.311473</td>\n",
              "      <td>-0.00775123</td>\n",
              "      <td>NaN</td>\n",
              "      <td>NaN</td>\n",
              "    </tr>\n",
              "    <tr>\n",
              "      <th>model_pow_14</th>\n",
              "      <td>23849.6</td>\n",
              "      <td>-141331</td>\n",
              "      <td>378974</td>\n",
              "      <td>-609539</td>\n",
              "      <td>657184</td>\n",
              "      <td>-502712</td>\n",
              "      <td>281555</td>\n",
              "      <td>-117386</td>\n",
              "      <td>36642.7</td>\n",
              "      <td>-8530.73</td>\n",
              "      <td>1459.49</td>\n",
              "      <td>-178.116</td>\n",
              "      <td>14.6718</td>\n",
              "      <td>-0.730855</td>\n",
              "      <td>0.0166255</td>\n",
              "      <td>NaN</td>\n",
              "    </tr>\n",
              "    <tr>\n",
              "      <th>model_pow_15</th>\n",
              "      <td>-36245.8</td>\n",
              "      <td>243850</td>\n",
              "      <td>-745848</td>\n",
              "      <td>1.37618e+06</td>\n",
              "      <td>-1.71367e+06</td>\n",
              "      <td>1.52618e+06</td>\n",
              "      <td>-1.00479e+06</td>\n",
              "      <td>498298</td>\n",
              "      <td>-187816</td>\n",
              "      <td>53846.1</td>\n",
              "      <td>-11656.5</td>\n",
              "      <td>1872.78</td>\n",
              "      <td>-216.361</td>\n",
              "      <td>16.9834</td>\n",
              "      <td>-0.810656</td>\n",
              "      <td>0.0177527</td>\n",
              "    </tr>\n",
              "  </tbody>\n",
              "</table>\n",
              "</div>"
            ],
            "text/plain": [
              "             intercept  coef_x_1    coef_x_2  ...   coef_x_13  coef_x_14  coef_x_15\n",
              "model_pow_1    1.96286 -0.619575         NaN  ...         NaN        NaN        NaN\n",
              "model_pow_2    1.91406 -0.582551 -0.00595874  ...         NaN        NaN        NaN\n",
              "model_pow_3    -1.0807   3.03157    -1.28553  ...         NaN        NaN        NaN\n",
              "model_pow_4  -0.265704   1.68692   -0.531752  ...         NaN        NaN        NaN\n",
              "model_pow_5     2.9915  -5.11776     4.72461  ...         NaN        NaN        NaN\n",
              "model_pow_6   -2.80155   9.51665     -9.7132  ...         NaN        NaN        NaN\n",
              "model_pow_7    19.3021  -55.9523     68.9562  ...         NaN        NaN        NaN\n",
              "model_pow_8    43.1676  -137.013     183.825  ...         NaN        NaN        NaN\n",
              "model_pow_9    167.835  -614.513     963.403  ...         NaN        NaN        NaN\n",
              "model_pow_10   137.717  -486.125     726.133  ...         NaN        NaN        NaN\n",
              "model_pow_11  -74.8552   511.793    -1332.86  ...         NaN        NaN        NaN\n",
              "model_pow_12  -339.351   1867.34    -4421.07  ...         NaN        NaN        NaN\n",
              "model_pow_13   3198.29  -17782.3     44559.6  ... -0.00775123        NaN        NaN\n",
              "model_pow_14   23849.6   -141331      378974  ...   -0.730855  0.0166255        NaN\n",
              "model_pow_15  -36245.8    243850     -745848  ...     16.9834  -0.810656  0.0177527\n",
              "\n",
              "[15 rows x 16 columns]"
            ]
          },
          "metadata": {
            "tags": []
          },
          "execution_count": 5
        }
      ]
    },
    {
      "cell_type": "markdown",
      "metadata": {
        "id": "kPdPIiiH04eA",
        "colab_type": "text"
      },
      "source": [
        "###L2 regularization.\n",
        "\n",
        "Learn Ridge regression for polynomial features with degree 15."
      ]
    },
    {
      "cell_type": "code",
      "metadata": {
        "id": "0LuBxZ2-04-H",
        "colab_type": "code",
        "colab": {}
      },
      "source": [
        "##### Ridge Regression\n",
        "from sklearn.linear_model import Ridge\n",
        "def ridge_regression(x, y, alpha, models_to_plot, degree=15):\n",
        "    ### START CODE HERE ### \n",
        "    poly = PolynomialFeatures(degree, include_bias=False)\n",
        "    X_poly = poly.fit_transform(x.reshape(-1, 1))\n",
        "      \n",
        "    ridgereg = Ridge(alpha=alpha,normalize=True)\n",
        "    ridgereg.fit(X_poly, y)\n",
        "    y_pred = ridgereg.predict(X_poly)\n",
        "    \n",
        "    ### END CODE HERE ###\n",
        "    \n",
        "    #Check if a plot is to be made for the entered alpha\n",
        "    if alpha in models_to_plot:\n",
        "        plt.subplot(models_to_plot[alpha])\n",
        "        plt.tight_layout()\n",
        "        plt.scatter(x, y)\n",
        "        plt.plot(x, y_pred, color='r')\n",
        "        plt.title('Plot for alpha: %.3g'%alpha)\n",
        "    \n",
        "    return ridgereg.intercept_, ridgereg.coef_"
      ],
      "execution_count": 0,
      "outputs": []
    },
    {
      "cell_type": "code",
      "metadata": {
        "id": "YvAQh81cLDio",
        "colab_type": "code",
        "outputId": "4efa6dba-77b9-40a4-bc20-ba90c1eb682d",
        "colab": {
          "base_uri": "https://localhost:8080/",
          "height": 352
        }
      },
      "source": [
        "#Set the different values of alpha to be tested\n",
        "alpha_ridge = [1e-15, 1e-10, 1e-8, 1e-4, 1e-3,1e-2, 1, 5, 10, 20]\n",
        "\n",
        "#Initialize the dataframe for storing coefficients.\n",
        "col = ['intercept'] + ['coef_x_%d'%i for i in range(1,16)]\n",
        "ind = ['alpha_%.2g'%alpha for i, alpha in enumerate(alpha_ridge)]\n",
        "coef_matrix_ridge = pd.DataFrame(index=ind, columns=col)\n",
        "\n",
        "models_to_plot = {1e-15:231, 1e-10:232, 1e-4:233, 1e-3:234, 1e-2:235, 5:236}\n",
        "for i, alpha in enumerate(alpha_ridge):\n",
        "    intercept, coef = ridge_regression(x, y, alpha, models_to_plot)\n",
        "    coef_matrix_ridge.iloc[i-1,0] = intercept\n",
        "    coef_matrix_ridge.iloc[i-1,1:1+len(coef)] = coef"
      ],
      "execution_count": 0,
      "outputs": [
        {
          "output_type": "stream",
          "text": [
            "/usr/local/lib/python3.6/dist-packages/sklearn/linear_model/ridge.py:147: LinAlgWarning: Ill-conditioned matrix (rcond=4.66381e-17): result may not be accurate.\n",
            "  overwrite_a=True).T\n"
          ],
          "name": "stderr"
        },
        {
          "output_type": "display_data",
          "data": {
            "image/png": "[encoded data removed]",
            "text/plain": [
              "<Figure size 432x288 with 6 Axes>"
            ]
          },
          "metadata": {
            "tags": []
          }
        }
      ]
    },
    {
      "cell_type": "code",
      "metadata": {
        "id": "XzQrI0pBNNbq",
        "colab_type": "code",
        "outputId": "1a49f198-456f-40ec-b158-ecbca60b57a8",
        "colab": {
          "base_uri": "https://localhost:8080/",
          "height": 383
        }
      },
      "source": [
        "coef_matrix_ridge"
      ],
      "execution_count": 0,
      "outputs": [
        {
          "output_type": "execute_result",
          "data": {
            "text/html": [
              "<div>\n",
              "<style scoped>\n",
              "    .dataframe tbody tr th:only-of-type {\n",
              "        vertical-align: middle;\n",
              "    }\n",
              "\n",
              "    .dataframe tbody tr th {\n",
              "        vertical-align: top;\n",
              "    }\n",
              "\n",
              "    .dataframe thead th {\n",
              "        text-align: right;\n",
              "    }\n",
              "</style>\n",
              "<table border=\"1\" class=\"dataframe\">\n",
              "  <thead>\n",
              "    <tr style=\"text-align: right;\">\n",
              "      <th></th>\n",
              "      <th>intercept</th>\n",
              "      <th>coef_x_1</th>\n",
              "      <th>coef_x_2</th>\n",
              "      <th>coef_x_3</th>\n",
              "      <th>coef_x_4</th>\n",
              "      <th>coef_x_5</th>\n",
              "      <th>coef_x_6</th>\n",
              "      <th>coef_x_7</th>\n",
              "      <th>coef_x_8</th>\n",
              "      <th>coef_x_9</th>\n",
              "      <th>coef_x_10</th>\n",
              "      <th>coef_x_11</th>\n",
              "      <th>coef_x_12</th>\n",
              "      <th>coef_x_13</th>\n",
              "      <th>coef_x_14</th>\n",
              "      <th>coef_x_15</th>\n",
              "    </tr>\n",
              "  </thead>\n",
              "  <tbody>\n",
              "    <tr>\n",
              "      <th>alpha_1e-15</th>\n",
              "      <td>11.1701</td>\n",
              "      <td>-28.9629</td>\n",
              "      <td>31.0694</td>\n",
              "      <td>-15.2353</td>\n",
              "      <td>2.89183</td>\n",
              "      <td>0.169364</td>\n",
              "      <td>-0.091002</td>\n",
              "      <td>-0.0108382</td>\n",
              "      <td>0.00198377</td>\n",
              "      <td>0.00063697</td>\n",
              "      <td>2.40849e-05</td>\n",
              "      <td>-2.00114e-05</td>\n",
              "      <td>-4.20369e-06</td>\n",
              "      <td>2.19357e-07</td>\n",
              "      <td>2.2729e-07</td>\n",
              "      <td>-2.3374e-08</td>\n",
              "    </tr>\n",
              "    <tr>\n",
              "      <th>alpha_1e-10</th>\n",
              "      <td>1.33999</td>\n",
              "      <td>-1.53065</td>\n",
              "      <td>1.74946</td>\n",
              "      <td>-0.680458</td>\n",
              "      <td>0.038843</td>\n",
              "      <td>0.0158179</td>\n",
              "      <td>0.00015918</td>\n",
              "      <td>-0.00035954</td>\n",
              "      <td>-5.37182e-05</td>\n",
              "      <td>-2.91013e-07</td>\n",
              "      <td>1.08091e-06</td>\n",
              "      <td>1.89389e-07</td>\n",
              "      <td>1.96191e-08</td>\n",
              "      <td>3.92864e-09</td>\n",
              "      <td>8.19001e-10</td>\n",
              "      <td>-4.62722e-10</td>\n",
              "    </tr>\n",
              "    <tr>\n",
              "      <th>alpha_1e-08</th>\n",
              "      <td>0.56132</td>\n",
              "      <td>0.546549</td>\n",
              "      <td>-0.128142</td>\n",
              "      <td>-0.025713</td>\n",
              "      <td>-0.00282024</td>\n",
              "      <td>-0.000110299</td>\n",
              "      <td>4.0575e-05</td>\n",
              "      <td>1.52075e-05</td>\n",
              "      <td>3.65239e-06</td>\n",
              "      <td>7.36585e-07</td>\n",
              "      <td>1.30351e-07</td>\n",
              "      <td>1.9445e-08</td>\n",
              "      <td>1.93533e-09</td>\n",
              "      <td>-1.30259e-10</td>\n",
              "      <td>-1.54943e-10</td>\n",
              "      <td>-6.17707e-11</td>\n",
              "    </tr>\n",
              "    <tr>\n",
              "      <th>alpha_0.0001</th>\n",
              "      <td>0.817638</td>\n",
              "      <td>0.305147</td>\n",
              "      <td>-0.0866873</td>\n",
              "      <td>-0.0204755</td>\n",
              "      <td>-0.00283643</td>\n",
              "      <td>-0.000219199</td>\n",
              "      <td>1.81203e-05</td>\n",
              "      <td>1.2399e-05</td>\n",
              "      <td>3.42971e-06</td>\n",
              "      <td>7.28224e-07</td>\n",
              "      <td>1.29346e-07</td>\n",
              "      <td>1.86865e-08</td>\n",
              "      <td>1.70622e-09</td>\n",
              "      <td>-1.5108e-10</td>\n",
              "      <td>-1.40448e-10</td>\n",
              "      <td>-5.16034e-11</td>\n",
              "    </tr>\n",
              "    <tr>\n",
              "      <th>alpha_0.001</th>\n",
              "      <td>1.29889</td>\n",
              "      <td>-0.0883959</td>\n",
              "      <td>-0.0515001</td>\n",
              "      <td>-0.010099</td>\n",
              "      <td>-0.00141244</td>\n",
              "      <td>-0.000131521</td>\n",
              "      <td>7.23082e-07</td>\n",
              "      <td>4.13617e-06</td>\n",
              "      <td>1.30478e-06</td>\n",
              "      <td>2.96417e-07</td>\n",
              "      <td>5.6157e-08</td>\n",
              "      <td>8.97185e-09</td>\n",
              "      <td>1.09406e-09</td>\n",
              "      <td>4.29249e-11</td>\n",
              "      <td>-3.14226e-11</td>\n",
              "      <td>-1.48705e-11</td>\n",
              "    </tr>\n",
              "    <tr>\n",
              "      <th>alpha_0.01</th>\n",
              "      <td>0.968886</td>\n",
              "      <td>-0.139008</td>\n",
              "      <td>-0.019268</td>\n",
              "      <td>-0.00300434</td>\n",
              "      <td>-0.000465519</td>\n",
              "      <td>-6.97006e-05</td>\n",
              "      <td>-9.90064e-06</td>\n",
              "      <td>-1.29236e-06</td>\n",
              "      <td>-1.42846e-07</td>\n",
              "      <td>-9.33025e-09</td>\n",
              "      <td>1.30688e-09</td>\n",
              "      <td>7.8035e-10</td>\n",
              "      <td>2.40231e-10</td>\n",
              "      <td>6.15627e-11</td>\n",
              "      <td>1.44581e-11</td>\n",
              "      <td>3.22713e-12</td>\n",
              "    </tr>\n",
              "    <tr>\n",
              "      <th>alpha_1</th>\n",
              "      <td>0.54826</td>\n",
              "      <td>-0.0588687</td>\n",
              "      <td>-0.00852167</td>\n",
              "      <td>-0.00141945</td>\n",
              "      <td>-0.000241004</td>\n",
              "      <td>-4.08318e-05</td>\n",
              "      <td>-6.87431e-06</td>\n",
              "      <td>-1.14898e-06</td>\n",
              "      <td>-1.90534e-07</td>\n",
              "      <td>-3.13146e-08</td>\n",
              "      <td>-5.09188e-09</td>\n",
              "      <td>-8.16953e-10</td>\n",
              "      <td>-1.28804e-10</td>\n",
              "      <td>-1.98296e-11</td>\n",
              "      <td>-2.95006e-12</td>\n",
              "      <td>-4.16233e-13</td>\n",
              "    </tr>\n",
              "    <tr>\n",
              "      <th>alpha_5</th>\n",
              "      <td>0.400342</td>\n",
              "      <td>-0.0372364</td>\n",
              "      <td>-0.00552679</td>\n",
              "      <td>-0.000949634</td>\n",
              "      <td>-0.000167292</td>\n",
              "      <td>-2.95811e-05</td>\n",
              "      <td>-5.23032e-06</td>\n",
              "      <td>-9.24527e-07</td>\n",
              "      <td>-1.63445e-07</td>\n",
              "      <td>-2.89111e-08</td>\n",
              "      <td>-5.11838e-09</td>\n",
              "      <td>-9.07113e-10</td>\n",
              "      <td>-1.60954e-10</td>\n",
              "      <td>-2.85942e-11</td>\n",
              "      <td>-5.08624e-12</td>\n",
              "      <td>-9.05846e-13</td>\n",
              "    </tr>\n",
              "    <tr>\n",
              "      <th>alpha_10</th>\n",
              "      <td>0.276703</td>\n",
              "      <td>-0.0224693</td>\n",
              "      <td>-0.00340492</td>\n",
              "      <td>-0.000599344</td>\n",
              "      <td>-0.000108458</td>\n",
              "      <td>-1.9744e-05</td>\n",
              "      <td>-3.60077e-06</td>\n",
              "      <td>-6.57576e-07</td>\n",
              "      <td>-1.2028e-07</td>\n",
              "      <td>-2.20428e-08</td>\n",
              "      <td>-4.04814e-09</td>\n",
              "      <td>-7.45085e-10</td>\n",
              "      <td>-1.37447e-10</td>\n",
              "      <td>-2.54123e-11</td>\n",
              "      <td>-4.70877e-12</td>\n",
              "      <td>-8.7438e-13</td>\n",
              "    </tr>\n",
              "    <tr>\n",
              "      <th>alpha_20</th>\n",
              "      <td>94.751</td>\n",
              "      <td>-299.916</td>\n",
              "      <td>380.578</td>\n",
              "      <td>-237.501</td>\n",
              "      <td>67.0169</td>\n",
              "      <td>0.156008</td>\n",
              "      <td>-4.53663</td>\n",
              "      <td>0.587033</td>\n",
              "      <td>0.146857</td>\n",
              "      <td>-0.0244735</td>\n",
              "      <td>-0.00555068</td>\n",
              "      <td>0.000878771</td>\n",
              "      <td>0.000194673</td>\n",
              "      <td>-4.9154e-05</td>\n",
              "      <td>3.21625e-06</td>\n",
              "      <td>-3.9243e-08</td>\n",
              "    </tr>\n",
              "  </tbody>\n",
              "</table>\n",
              "</div>"
            ],
            "text/plain": [
              "             intercept   coef_x_1  ...    coef_x_14    coef_x_15\n",
              "alpha_1e-15    11.1701   -28.9629  ...   2.2729e-07  -2.3374e-08\n",
              "alpha_1e-10    1.33999   -1.53065  ...  8.19001e-10 -4.62722e-10\n",
              "alpha_1e-08    0.56132   0.546549  ... -1.54943e-10 -6.17707e-11\n",
              "alpha_0.0001  0.817638   0.305147  ... -1.40448e-10 -5.16034e-11\n",
              "alpha_0.001    1.29889 -0.0883959  ... -3.14226e-11 -1.48705e-11\n",
              "alpha_0.01    0.968886  -0.139008  ...  1.44581e-11  3.22713e-12\n",
              "alpha_1        0.54826 -0.0588687  ... -2.95006e-12 -4.16233e-13\n",
              "alpha_5       0.400342 -0.0372364  ... -5.08624e-12 -9.05846e-13\n",
              "alpha_10      0.276703 -0.0224693  ... -4.70877e-12  -8.7438e-13\n",
              "alpha_20        94.751   -299.916  ...  3.21625e-06  -3.9243e-08\n",
              "\n",
              "[10 rows x 16 columns]"
            ]
          },
          "metadata": {
            "tags": []
          },
          "execution_count": 8
        }
      ]
    },
    {
      "cell_type": "markdown",
      "metadata": {
        "id": "rXaYLXHWS4--",
        "colab_type": "text"
      },
      "source": [
        "You should see, that coefficients reduced with increased regularization."
      ]
    },
    {
      "cell_type": "markdown",
      "metadata": {
        "id": "NKZ4B04qPquS",
        "colab_type": "text"
      },
      "source": [
        "###L1 regularization\n",
        "\n",
        "Train Lasso regression. It also makes a regualrization, but comparing to L2, coefficients became 0."
      ]
    },
    {
      "cell_type": "code",
      "metadata": {
        "id": "8cnRGTbNNT-A",
        "colab_type": "code",
        "colab": {}
      },
      "source": [
        "###### Lasso Regression\n",
        "from sklearn.linear_model import Lasso\n",
        "def lasso_regression(x, y, alpha, models_to_plot, degree=15):\n",
        "    ### START CODE HERE ###\n",
        "    poly = PolynomialFeatures(degree, include_bias=False)\n",
        "    X_poly = poly.fit_transform(x.reshape(-1, 1))\n",
        "    lassoreg = Lasso(alpha=alpha,normalize=True, max_iter=1e5)\n",
        "    lassoreg.fit(X_poly, y)\n",
        "    y_pred = lassoreg.predict(X_poly)\n",
        "    \n",
        "    ### END CODE HERE ###\n",
        "    \n",
        "    #Check if a plot is to be made for the entered alpha\n",
        "    if alpha in models_to_plot:\n",
        "        plt.subplot(models_to_plot[alpha])\n",
        "        plt.tight_layout()\n",
        "        plt.scatter(x, y)\n",
        "        plt.plot(x, y_pred, color='r')\n",
        "        plt.title('Plot for alpha: %.3g'%alpha)\n",
        "    \n",
        "    return lassoreg.intercept_, lassoreg.coef_"
      ],
      "execution_count": 0,
      "outputs": []
    },
    {
      "cell_type": "code",
      "metadata": {
        "id": "DH8iPb4yQPMv",
        "colab_type": "code",
        "outputId": "27d2ced8-3add-4e62-94ec-487b492dcc95",
        "colab": {
          "base_uri": "https://localhost:8080/",
          "height": 421
        }
      },
      "source": [
        "#Define the alpha values to test\n",
        "alpha_lasso = [1e-15, 1e-10, 1e-8, 1e-5,1e-4, 1e-3,1e-2, 1, 5, 10]\n",
        "\n",
        "#Initialize the dataframe to store coefficients\n",
        "col = ['intercept'] + ['coef_x_%d'%i for i in range(1,16)]\n",
        "ind = ['alpha_%.2g'%alpha_lasso[i] for i in range(0,10)]\n",
        "coef_matrix_lasso = pd.DataFrame(index=ind, columns=col)\n",
        "\n",
        "#Define the models to plot\n",
        "models_to_plot = {1e-10:231, 1e-5:232,1e-4:233, 1e-3:234, 1e-2:235, 1:236}\n",
        "\n",
        "#Iterate over the 10 alpha values:\n",
        "for i in range(10):\n",
        "    intercept, coef = lasso_regression(x, y, alpha_lasso[i], models_to_plot)\n",
        "\n",
        "    coef_matrix_lasso.iloc[i-1,0] = intercept\n",
        "    coef_matrix_lasso.iloc[i-1,1:1+len(coef)] = coef"
      ],
      "execution_count": 0,
      "outputs": [
        {
          "output_type": "stream",
          "text": [
            "/usr/local/lib/python3.6/dist-packages/sklearn/linear_model/coordinate_descent.py:475: ConvergenceWarning: Objective did not converge. You might want to increase the number of iterations. Duality gap: 0.4783573825904089, tolerance: 0.00369480384218441\n",
            "  positive)\n",
            "/usr/local/lib/python3.6/dist-packages/sklearn/linear_model/coordinate_descent.py:475: ConvergenceWarning: Objective did not converge. You might want to increase the number of iterations. Duality gap: 0.47828183990566436, tolerance: 0.00369480384218441\n",
            "  positive)\n",
            "/usr/local/lib/python3.6/dist-packages/sklearn/linear_model/coordinate_descent.py:475: ConvergenceWarning: Objective did not converge. You might want to increase the number of iterations. Duality gap: 0.4707933019042263, tolerance: 0.00369480384218441\n",
            "  positive)\n"
          ],
          "name": "stderr"
        },
        {
          "output_type": "display_data",
          "data": {
            "image/png": "[encoded data removed]",
            "text/plain": [
              "<Figure size 432x288 with 6 Axes>"
            ]
          },
          "metadata": {
            "tags": []
          }
        }
      ]
    },
    {
      "cell_type": "markdown",
      "metadata": {
        "id": "QqX1H7dLTH_e",
        "colab_type": "text"
      },
      "source": [
        "Let's look how many coefficients became zeros."
      ]
    },
    {
      "cell_type": "code",
      "metadata": {
        "id": "W7WnkqUUQfey",
        "colab_type": "code",
        "outputId": "7af814da-76df-4fb0-cea8-7c4a304b7cbd",
        "colab": {
          "base_uri": "https://localhost:8080/",
          "height": 208
        }
      },
      "source": [
        "coef_matrix_lasso.apply(lambda x: sum(x.values==0),axis=1)"
      ],
      "execution_count": 0,
      "outputs": [
        {
          "output_type": "execute_result",
          "data": {
            "text/plain": [
              "alpha_1e-15      0\n",
              "alpha_1e-10      0\n",
              "alpha_1e-08      8\n",
              "alpha_1e-05     10\n",
              "alpha_0.0001    12\n",
              "alpha_0.001     13\n",
              "alpha_0.01      15\n",
              "alpha_1         15\n",
              "alpha_5         15\n",
              "alpha_10         0\n",
              "dtype: int64"
            ]
          },
          "metadata": {
            "tags": []
          },
          "execution_count": 11
        }
      ]
    },
    {
      "cell_type": "markdown",
      "metadata": {
        "id": "cKfD3l931Na4",
        "colab_type": "text"
      },
      "source": [
        "## Cross-validation\n",
        "\n",
        "Using cross-validation in code is very simple. Use *cross_val_score* from *sklearn.model_selection*.\n",
        "\n",
        "Load wine dataset and train Gaussian Naive Bayes algorithm on it. Use sklearn implementatioin, you will do your own later."
      ]
    },
    {
      "cell_type": "code",
      "metadata": {
        "id": "GHUeY1Rj1MbK",
        "colab_type": "code",
        "outputId": "9cb6d39b-2d49-4b0f-86f7-725a0337c1a8",
        "colab": {
          "base_uri": "https://localhost:8080/",
          "height": 52
        }
      },
      "source": [
        "from sklearn.model_selection import cross_val_score\n",
        "from sklearn.datasets import load_wine\n",
        "from sklearn.naive_bayes import GaussianNB\n",
        "\n",
        "wine = load_wine()\n",
        "\n",
        "### START CODE HERE ###\n",
        "gnb = GaussianNB()\n",
        "scores = cross_val_score(gnb, wine.data, wine.target, cv=10)\n",
        "print(scores)\n",
        "### END CODE HERE ###"
      ],
      "execution_count": 0,
      "outputs": [
        {
          "output_type": "stream",
          "text": [
            "[0.89473684 0.88888889 1.         0.94444444 0.94444444 1.\n",
            " 1.         0.94444444 1.         1.        ]\n"
          ],
          "name": "stdout"
        }
      ]
    },
    {
      "cell_type": "markdown",
      "metadata": {
        "id": "vYJJEmXV4j60",
        "colab_type": "text"
      },
      "source": [
        "## KNN classifier\n",
        "\n",
        "In this task you will implement the whole set of methods for KNN classifier.\n",
        "\n",
        "Let's start from generating data."
      ]
    },
    {
      "cell_type": "code",
      "metadata": {
        "id": "J6kzHm4W6NoH",
        "colab_type": "code",
        "outputId": "1a785d91-da1a-4b05-e2bd-c47c5db76a90",
        "colab": {
          "base_uri": "https://localhost:8080/",
          "height": 281
        }
      },
      "source": [
        "from sklearn.datasets.samples_generator import make_blobs\n",
        "from sklearn.model_selection import train_test_split\n",
        "\n",
        "\n",
        "data, labels = make_blobs(n_samples=100, centers=2, cluster_std=10.0, center_box=(-30.0, 30.0), n_features=2, random_state=0)\n",
        "train_data, test_data, train_labels, test_labels = train_test_split(data, labels, test_size=0.33, random_state=42)\n",
        "\n",
        "plt.scatter(train_data[:,0], train_data[:,1], c = train_labels, s = 50, marker  = 'o')\n",
        "plt.scatter(test_data[:,0], test_data[:,1], c = 'gray', s = 50, marker  = 'o', label = 'test data')\n",
        "plt.legend()\n",
        "plt.title('train and test set')\n",
        "plt.show()"
      ],
      "execution_count": 0,
      "outputs": [
        {
          "output_type": "display_data",
          "data": {
            "image/png": "[encoded data removed]",
            "text/plain": [
              "<Figure size 432x288 with 1 Axes>"
            ]
          },
          "metadata": {
            "tags": []
          }
        }
      ]
    },
    {
      "cell_type": "markdown",
      "metadata": {
        "id": "6lRwqwod6Vve",
        "colab_type": "text"
      },
      "source": [
        "Now implement your methods"
      ]
    },
    {
      "cell_type": "code",
      "metadata": {
        "id": "rIV1tk7J4dBh",
        "colab_type": "code",
        "colab": {}
      },
      "source": [
        "import numpy as np\n",
        "import operator\n",
        "import math\n",
        "class KNN:\n",
        "    def __init__(self, k):\n",
        "        \"\"\"\n",
        "        param: k: number of nearest neighbors to consider\n",
        "        \"\"\"\n",
        "        self.k = k\n",
        "    @staticmethod\n",
        "    def get_distance(X, Y):\n",
        "        \"\"\"\n",
        "        implement euclidean distance\n",
        "        param: X, Y - vectors of the same size to calculate distance between\n",
        "        return: number \n",
        "        \"\"\"\n",
        "        ### START CODE HERE ### \n",
        "        distance = 0\n",
        "        for x in range(len(X)):\n",
        "            distance += pow((X[x] - Y[x]), 2)\n",
        "        return math.sqrt(distance)\n",
        "        ### END CODE HERE ###\n",
        "    def get_k_neighbors(self, test_sample):\n",
        "        \"\"\"\n",
        "        finds k closest to test example data points from train set\n",
        "        use get_distance method to calculate distanses between data points\n",
        "        param: self.train_data: n-dimentional train set\n",
        "        param: self.train_labels: class label of training data\n",
        "        param: test_sample: sample to be classified\n",
        "        param: self.k: number of nearest neighbors to consider\n",
        "        return: list of labels of k closest to test sample points\n",
        "        \"\"\"\n",
        "        ### START CODE HERE ### \n",
        "        distances = []\n",
        "        for x in range(self.train_data.shape[0]):\n",
        "            dist = self.get_distance(test_sample, self.train_data[x])\n",
        "            distances.append((dist, self.train_labels[x]))\n",
        "        distances.sort()\n",
        "        neighbors = []\n",
        "        for x in range(self.k):\n",
        "            neighbors.append(distances[x][1])\n",
        "        return neighbors\n",
        "        ### END CODE HERE ###\n",
        "    @staticmethod\n",
        "    def get_class_label(neighbors):\n",
        "        \"\"\"\n",
        "        selects most frequent class\n",
        "        param: neighbors: list of labels of k closest data points\n",
        "        return: class label\n",
        "        \"\"\"\n",
        "        ### START CODE HERE ### \n",
        "        labels, counts = np.unique(neighbors, return_counts = True)                       \n",
        "        idx = np.argsort(counts)[-1]        \n",
        "        return labels[idx]\n",
        "        ### END CODE HERE ###\n",
        "    def fit(self, train_data, train_labels):\n",
        "        \"\"\"\n",
        "        fit classifier, e.g. get training data\n",
        "        \"\"\"\n",
        "        self.train_data = train_data\n",
        "        self.train_labels = train_labels\n",
        "    def predict(self, test_data):\n",
        "        \"\"\"\n",
        "        predicts class labels for test data points\n",
        "        param: test_data: list of data points to be classified\n",
        "        return: predictions\n",
        "        \"\"\"\n",
        "        predictions = []\n",
        "        for x in test_data:\n",
        "            neighbors = self.get_k_neighbors(x)\n",
        "            label = self.get_class_label(neighbors)\n",
        "            predictions.append(label)\n",
        "        return predictions"
      ],
      "execution_count": 0,
      "outputs": []
    },
    {
      "cell_type": "markdown",
      "metadata": {
        "id": "CD8wNAJT5zpq",
        "colab_type": "text"
      },
      "source": [
        "### Run classifier on binary data"
      ]
    },
    {
      "cell_type": "code",
      "metadata": {
        "id": "l6JhvtHc5v5H",
        "colab_type": "code",
        "outputId": "76e5c7c3-535d-43d8-dcb7-c31b62650c0d",
        "colab": {
          "base_uri": "https://localhost:8080/",
          "height": 34
        }
      },
      "source": [
        "from sklearn.metrics import accuracy_score\n",
        "\n",
        "# create an instance of the classifier with five neighbors\n",
        "knn = KNN(5)\n",
        "# fir classifier\n",
        "knn.fit(train_data, train_labels)\n",
        "# predict for test data\n",
        "predictions = knn.predict(test_data)\n",
        "\n",
        "accuracy_score(test_labels, predictions)"
      ],
      "execution_count": 0,
      "outputs": [
        {
          "output_type": "execute_result",
          "data": {
            "text/plain": [
              "0.6060606060606061"
            ]
          },
          "metadata": {
            "tags": []
          },
          "execution_count": 15
        }
      ]
    },
    {
      "cell_type": "markdown",
      "metadata": {
        "id": "3Ka9gf4VGk44",
        "colab_type": "text"
      },
      "source": [
        "## Gaussian Naive Bayes\n",
        "\n",
        "Let's implement it ourselves. On train phase you have to estimate parameters of likelihood and prior distribution.\n",
        "\n",
        "To predict a label, you don't need to caclulate data probability. Use pdf values of estimated probabilities to find maximum aposteriori probability."
      ]
    },
    {
      "cell_type": "code",
      "metadata": {
        "id": "MJV3yvsYGrA-",
        "colab_type": "code",
        "colab": {}
      },
      "source": [
        "import numpy as np\n",
        "from scipy.stats import norm\n",
        "\n",
        "\n",
        "class GaussianNB:\n",
        "    def fit(self, X_train, y_train):\n",
        "        \"\"\"\n",
        "        fit classifier, e.g. get training data\n",
        "        \"\"\"\n",
        "        ### START CODE HERE ###\n",
        "\n",
        "        self.labels, counts_elements = np.unique(y_train, return_counts=True)\n",
        "\n",
        "        features = X_train.shape[1]\n",
        "        classes = len(y_train)\n",
        "\n",
        "        self.prior = counts_elements / len(y_train)\n",
        "        self.mean = np.zeros((classes, features))\n",
        "        self.std = np.zeros((classes, features))\n",
        "\n",
        "        for j in range(features):\n",
        "            x_j = X_train[:, j]\n",
        "            for i in range(classes):\n",
        "                if (y_train == i).any():\n",
        "                    x_ij = x_j[y_train == i]\n",
        "                    self.mean[i, j] = np.mean(x_ij)\n",
        "                    self.std[i, j] = np.std(x_ij)\n",
        "\n",
        "        ### END CODE HERE ###\n",
        "\n",
        "    def predict(self, X_test):\n",
        "        \"\"\"\n",
        "        predicts class labels for test data points\n",
        "        param: test_data: list of data points to be classified\n",
        "        return: predictions\n",
        "        \"\"\"\n",
        "        ### START CODE HERE ###\n",
        "        objects = X_test.shape[0]\n",
        "        features = X_test.shape[1]\n",
        "        classes = len(self.labels)\n",
        "\n",
        "        aposteriori = np.zeros((objects, classes))\n",
        "        for i in range(objects):\n",
        "            for j in range(classes):\n",
        "                aposteriori[i, j] = self.prior[j]\n",
        "                for k in range(features):\n",
        "                    aposteriori[i, j] *= norm.pdf(X_test[i, k], self.mean[j, k], self.std[j, k])\n",
        "\n",
        "        predictions = np.argmax(aposteriori, axis=1)\n",
        "\n",
        "        labels = self.labels[predictions]\n",
        "        ### END CODE HERE ###\n",
        "\n",
        "        return labels"
      ],
      "execution_count": 0,
      "outputs": []
    },
    {
      "cell_type": "markdown",
      "metadata": {
        "id": "1bOfMyZiHDsL",
        "colab_type": "text"
      },
      "source": [
        "Check it on wine dataset"
      ]
    },
    {
      "cell_type": "code",
      "metadata": {
        "id": "6Fkmd7b9HCyb",
        "colab_type": "code",
        "outputId": "6e05a8bd-7506-431c-f18d-c53005ab5e8b",
        "colab": {
          "base_uri": "https://localhost:8080/",
          "height": 34
        }
      },
      "source": [
        "from sklearn.model_selection import train_test_split\n",
        "from sklearn.metrics import accuracy_score\n",
        "from sklearn.datasets import load_wine\n",
        "\n",
        "wine = load_wine()\n",
        "\n",
        "X_train, X_test, y_train, y_test = train_test_split(wine.data, wine.target, test_size=0.3,random_state=0)\n",
        "\n",
        "gnb = GaussianNB()\n",
        "gnb.fit(X_train, y_train)\n",
        "y_pred = gnb.predict(X_test)\n",
        "\n",
        "print(accuracy_score(y_test, y_pred))"
      ],
      "execution_count": 0,
      "outputs": [
        {
          "output_type": "stream",
          "text": [
            "0.9444444444444444\n"
          ],
          "name": "stdout"
        }
      ]
    }
  ]
}