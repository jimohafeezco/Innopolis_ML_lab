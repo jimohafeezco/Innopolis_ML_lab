{
  "nbformat": 4,
  "nbformat_minor": 0,
  "metadata": {
    "colab": {
      "name": "Lab 12.ipynb",
      "provenance": [],
      "collapsed_sections": []
    },
    "kernelspec": {
      "name": "python3",
      "display_name": "Python 3"
    },
    "accelerator": "GPU"
  },
  "cells": [
    {
      "cell_type": "markdown",
      "metadata": {
        "id": "mJMWpWbPCskT",
        "colab_type": "text"
      },
      "source": [
        "![alt text](https://encrypted-tbn0.gstatic.com/images?q=tbn:ANd9GcRjFm003pSAOtHmnUm7e--Xquwo90Hp5-U_3wSZrkChGz4tQYWZ)\n",
        "# Introduction to Machine Learning\n",
        "## Innopolis University \n",
        "### Week 12: Autoencoders\n",
        "\n",
        "Plan:\n",
        "\n",
        "1) KL Divergence\n",
        "\n",
        "2) In this lab you will implement autoencoder in pytorch.\n"
      ]
    },
    {
      "cell_type": "markdown",
      "metadata": {
        "id": "r1Z5hFGyNms8",
        "colab_type": "text"
      },
      "source": [
        "## KL Divergence\n",
        "\n",
        "### Why:\n",
        "\n",
        "Calculate divergence between two distributions\n",
        "\n",
        "### Formula:\n",
        "\n",
        "$$D_{KL}(P||Q) = \\sum_{x\\in X} p(x) \\log(\\frac{p(x)}{q(x)})$$\n",
        "\n",
        "### Example:\n",
        "\n",
        "Last semester on Probability and Statistics course students got next grades:\n",
        "\n",
        "17 students got A grade, \\\n",
        "62 students got B grade, \\\n",
        "50 students got C grade, \\\n",
        "44 students got D grade, \\\n",
        "\n",
        "Ekaterina told her father that there are almost equal part of students got each grade.\n",
        "And Oydinoy told her mother that nobody got an A grade, and all other grades are equally distributed. Calculate KL divergences between the true distribution and that messages."
      ]
    },
    {
      "cell_type": "markdown",
      "metadata": {
        "id": "Ww0oSjNFfnXy",
        "colab_type": "text"
      },
      "source": [
        "## Autoencoder\n",
        "\n",
        "Now we will implement our own autoencoder. Almost from scratch.\n",
        "\n",
        "At first make sure that you can you use GPU."
      ]
    },
    {
      "cell_type": "code",
      "metadata": {
        "id": "bSY1iaatDs_M",
        "colab_type": "code",
        "outputId": "df021f8a-4d36-4c45-9aba-c6f67e77f4db",
        "colab": {
          "base_uri": "https://localhost:8080/",
          "height": 34
        }
      },
      "source": [
        "import torch\n",
        "# Device configuration\n",
        "device_name = 'cuda' if torch.cuda.is_available() else 'cpu'\n",
        "print(\"Run on\", device_name)\n",
        "device = torch.device(device_name)"
      ],
      "execution_count": 0,
      "outputs": [
        {
          "output_type": "stream",
          "text": [
            "Run on cuda\n"
          ],
          "name": "stdout"
        }
      ]
    },
    {
      "cell_type": "markdown",
      "metadata": {
        "id": "K2OTqFtZgURe",
        "colab_type": "text"
      },
      "source": [
        "If it writes \"Run on cuda\" - congratulations, you will get a huge computational advantage. \n",
        "\n",
        "Otherwise:  \n",
        "Edit > Notebook settings or Runtime > Change runtime type and select GPU as Hardware accelerator."
      ]
    },
    {
      "cell_type": "markdown",
      "metadata": {
        "id": "0JtliqEUhRxA",
        "colab_type": "text"
      },
      "source": [
        "## Network in pytorch\n",
        "\n",
        "Now we will write everything in our own. \n",
        "\n",
        "You might copy and paste some lines from the [previous lab](https://colab.research.google.com/drive/1yEtyG6sK208y3xTNeEEN8eBYlUpuWFXe#scrollTo=lLYOztuGtZQr&forceEdit=true&sandboxMode=true).\n",
        "\n",
        "We also recommend you to read this [tutorial](https://pytorch.org/tutorials/beginner/deep_learning_60min_blitz.html) (refer during the lab if you need and follow it in your self studying time)."
      ]
    },
    {
      "cell_type": "code",
      "metadata": {
        "id": "yJCZBqpSCbLL",
        "colab_type": "code",
        "colab": {}
      },
      "source": [
        "import torch\n",
        "import torch.nn as nn\n",
        "import torch.utils as utils\n",
        "from torch.autograd import Variable\n",
        "from torchvision import datasets, transforms\n",
        "import matplotlib.pyplot as plt\n",
        "%matplotlib inline\n",
        "\n",
        "# Set Hyperparameters\n",
        "\n",
        "epoch = 10\n",
        "batch_size =100\n",
        "learning_rate = 0.001"
      ],
      "execution_count": 0,
      "outputs": []
    },
    {
      "cell_type": "markdown",
      "metadata": {
        "id": "gPg3u8l2kbSc",
        "colab_type": "text"
      },
      "source": [
        "### Data\n",
        "\n",
        "Create datasets.MNIST for the train data. There is only one transformation to be done - converting to the tensor. You can use code from [previous lab](https://colab.research.google.com/drive/1yEtyG6sK208y3xTNeEEN8eBYlUpuWFXe#scrollTo=lLYOztuGtZQr&forceEdit=true&sandboxMode=true) as an example."
      ]
    },
    {
      "cell_type": "code",
      "metadata": {
        "id": "H0whdZ-qEFRF",
        "colab_type": "code",
        "colab": {}
      },
      "source": [
        "### YOUR CODE HERE ###\n",
        "mnist_train = datasets.MNIST(\"./\", \n",
        "                         train=True, \n",
        "                         transform=transforms.ToTensor(), \n",
        "                         download=True)\n"
      ],
      "execution_count": 0,
      "outputs": []
    },
    {
      "cell_type": "markdown",
      "metadata": {
        "id": "oRRwTIpAcu6G",
        "colab_type": "text"
      },
      "source": [
        "Now make a dataloader for it. Batch size is defined above."
      ]
    },
    {
      "cell_type": "code",
      "metadata": {
        "id": "Krt6MGbJkHck",
        "colab_type": "code",
        "colab": {}
      },
      "source": [
        "### YOUR CODE HERE ###\n",
        "train_loader = torch.utils.data.DataLoader(dataset=mnist_train,batch_size=batch_size,shuffle=True)"
      ],
      "execution_count": 0,
      "outputs": []
    },
    {
      "cell_type": "markdown",
      "metadata": {
        "id": "1eWWwJcTc-iB",
        "colab_type": "text"
      },
      "source": [
        "Let's check."
      ]
    },
    {
      "cell_type": "code",
      "metadata": {
        "id": "7x_cpgltfRFJ",
        "colab_type": "code",
        "outputId": "1f61ed39-eea0-42ad-90ac-def9d1181756",
        "colab": {
          "base_uri": "https://localhost:8080/",
          "height": 286
        }
      },
      "source": [
        "batch,labels = next(iter(train_loader))\n",
        "image = batch[0]\n",
        "np_image = image.data.numpy()\n",
        "print(np_image.shape)\n",
        "plt.imshow(np_image[0],cmap='gray')\n",
        "plt.show()"
      ],
      "execution_count": 0,
      "outputs": [
        {
          "output_type": "stream",
          "text": [
            "(1, 28, 28)\n"
          ],
          "name": "stdout"
        },
        {
          "output_type": "display_data",
          "data": {
            "image/png": "[encoded data removed]",
            "text/plain": [
              "<Figure size 432x288 with 1 Axes>"
            ]
          },
          "metadata": {
            "tags": []
          }
        }
      ]
    },
    {
      "cell_type": "markdown",
      "metadata": {
        "id": "ZwTXG-2qs2FH",
        "colab_type": "text"
      },
      "source": [
        "### Models\n",
        "\n",
        "For simplicity, first part of both encoder and decoder are implemented for you.\n",
        "\n",
        "In the second part of encoder:\n",
        "\n",
        "\n",
        "1.   Make a convolutional layer with 128 output channels with 3x3 kernels with the same size output. The number of input channels could be found as the previous layer outcome. You need to use padding.\n",
        "2.   ReLU activation.\n",
        "3.   Batch normalization.\n",
        "4.   Max pooling with 2x2 size.\n",
        "5.   Another convolutional layer with 3x3 kernels and 256 output channels. Again the same size.\n",
        "6.   ReLU activation. \n",
        "\n"
      ]
    },
    {
      "cell_type": "code",
      "metadata": {
        "id": "dFTspEiTK5Cu",
        "colab_type": "code",
        "colab": {}
      },
      "source": [
        "class Encoder(nn.Module):\n",
        "    def __init__(self):\n",
        "        super(Encoder,self).__init__()\n",
        "        self.layer1 = nn.Sequential(\n",
        "                        nn.Conv2d(1,16,3,padding=1),   # batch x 16 x 28 x 28\n",
        "                        nn.ReLU(),\n",
        "                        nn.BatchNorm2d(16),\n",
        "                        nn.Conv2d(16,32,3,padding=1),  # batch x 32 x 28 x 28\n",
        "                        nn.ReLU(),\n",
        "                        nn.BatchNorm2d(32),\n",
        "                        nn.Conv2d(32,64,3,padding=1),  # batch x 32 x 28 x 28\n",
        "                        nn.ReLU(),\n",
        "                        nn.BatchNorm2d(64),\n",
        "                        nn.MaxPool2d(2,2)   # batch x 64 x 14 x 14\n",
        "        )\n",
        "        ### YOUR CODE HERE ###\n",
        "        self.layer2 = nn.Sequential(\n",
        "                        nn.Conv2d(64,128,3,padding=1),  # batch x 64 x 14 x 14\n",
        "                        nn.ReLU(),\n",
        "                        nn.BatchNorm2d(128),\n",
        "                        nn.MaxPool2d(2,2),\n",
        "                        nn.Conv2d(128,256,3,padding=1),  # batch x 64 x 7 x 7\n",
        "                        nn.ReLU()\n",
        "        )\n",
        "        \n",
        "    def forward(self,x):\n",
        "        out = self.layer1(x)\n",
        "        out = self.layer2(out)\n",
        "        out = out.view(batch_size, -1)\n",
        "        return out\n",
        "    \n",
        "encoder = Encoder().cuda()"
      ],
      "execution_count": 0,
      "outputs": []
    },
    {
      "cell_type": "markdown",
      "metadata": {
        "id": "3Hx2iCeZ2xB2",
        "colab_type": "text"
      },
      "source": [
        "Calculate the number of paramethers. Check [previous lab](https://colab.research.google.com/drive/1yEtyG6sK208y3xTNeEEN8eBYlUpuWFXe#scrollTo=lLYOztuGtZQr&forceEdit=true&sandboxMode=true) to see how to do it."
      ]
    },
    {
      "cell_type": "code",
      "metadata": {
        "id": "-ExXKbQc3G_d",
        "colab_type": "code",
        "outputId": "8635057a-c8ea-487b-f778-eb97d62ff553",
        "colab": {
          "base_uri": "https://localhost:8080/",
          "height": 34
        }
      },
      "source": [
        "def count_parameters(model):\n",
        "    return sum(p.numel() for p in model.parameters() if p.requires_grad)\n",
        "  \n",
        "print(count_parameters(encoder))"
      ],
      "execution_count": 0,
      "outputs": [
        {
          "output_type": "stream",
          "text": [
            "392800\n"
          ],
          "name": "stdout"
        }
      ]
    },
    {
      "cell_type": "markdown",
      "metadata": {
        "id": "2d37htdd3Xy2",
        "colab_type": "text"
      },
      "source": [
        "You should get 392800."
      ]
    },
    {
      "cell_type": "markdown",
      "metadata": {
        "id": "bb1Z7jUB3bS_",
        "colab_type": "text"
      },
      "source": [
        "Now implement the second part of decoder:\n",
        "\n",
        "\n",
        "\n",
        "1.   Deconvolution, returning 16 channels, with 3x3 kernels same size.\n",
        "2.   ReLU nonlinearity.\n",
        "3.   Batch normalization.\n",
        "4.   Deconvolution with one output chanel, 3x3 kernels, stride = 2, padding = 1, output padding = 1.\n",
        "5.   ReLU nonlinearity.\n",
        "\n"
      ]
    },
    {
      "cell_type": "code",
      "metadata": {
        "id": "XfuTqZy7K809",
        "colab_type": "code",
        "colab": {}
      },
      "source": [
        "class Decoder(nn.Module):\n",
        "    def __init__(self):\n",
        "        super(Decoder,self).__init__()\n",
        "        self.layer1 = nn.Sequential(\n",
        "                        nn.ConvTranspose2d(256,128,3,2,1,1),\n",
        "                        nn.ReLU(),\n",
        "                        nn.BatchNorm2d(128),\n",
        "                        nn.ConvTranspose2d(128,64,3,1,1),\n",
        "                        nn.ReLU(),\n",
        "                        nn.BatchNorm2d(64)\n",
        "        )\n",
        "        ### YOUR CODE HERE ###\n",
        "        self.layer2 = nn.Sequential(\n",
        "                        nn.ConvTranspose2d(64,16,3,1,1),\n",
        "                        nn.ReLU(),\n",
        "                        nn.BatchNorm2d(16),\n",
        "                        nn.ConvTranspose2d(16,1,3,2,1,1),\n",
        "                        nn.ReLU()\n",
        "        )\n",
        "        \n",
        "    def forward(self,x):\n",
        "        out = x.view(batch_size,256,7,7)\n",
        "        out = self.layer1(out)\n",
        "        out = self.layer2(out)\n",
        "        return out\n",
        "\n",
        "decoder = Decoder().cuda()"
      ],
      "execution_count": 0,
      "outputs": []
    },
    {
      "cell_type": "markdown",
      "metadata": {
        "id": "NlbrZGzXzDXa",
        "colab_type": "text"
      },
      "source": [
        "Now calculate the number of paramethers of the decoder:"
      ]
    },
    {
      "cell_type": "code",
      "metadata": {
        "id": "zudYlmqZykPu",
        "colab_type": "code",
        "outputId": "d55e2087-b4a0-4b90-8146-fe63577c7e11",
        "colab": {
          "base_uri": "https://localhost:8080/",
          "height": 34
        }
      },
      "source": [
        "### YOUR CODE HERE ###\n",
        "print(count_parameters(decoder))"
      ],
      "execution_count": 0,
      "outputs": [
        {
          "output_type": "stream",
          "text": [
            "378625\n"
          ],
          "name": "stdout"
        }
      ]
    },
    {
      "cell_type": "markdown",
      "metadata": {
        "id": "NWFNlE3Ey2BC",
        "colab_type": "text"
      },
      "source": [
        "It should be 378625."
      ]
    },
    {
      "cell_type": "markdown",
      "metadata": {
        "id": "jcWc698Qg7wE",
        "colab_type": "text"
      },
      "source": [
        "Now show the input image and output from untrained autoencoder.\n",
        "\n",
        "Make a batch from a train loader. Put it to the GPU using batch = Variable(batch).cuda()"
      ]
    },
    {
      "cell_type": "code",
      "metadata": {
        "id": "duN_focnd4Ov",
        "colab_type": "code",
        "outputId": "43b9e72c-a08a-490f-a3fe-add3409e5310",
        "colab": {
          "base_uri": "https://localhost:8080/",
          "height": 34
        }
      },
      "source": [
        "### YOUR CODE HERE ###\n",
        "batch,labels = next(iter(train_loader))\n",
        "batch = Variable(batch).cuda()\n",
        "\n",
        "print(batch.size())"
      ],
      "execution_count": 0,
      "outputs": [
        {
          "output_type": "stream",
          "text": [
            "torch.Size([100, 1, 28, 28])\n"
          ],
          "name": "stdout"
        }
      ]
    },
    {
      "cell_type": "markdown",
      "metadata": {
        "id": "dydiNO8cmZVC",
        "colab_type": "text"
      },
      "source": [
        "Transform it using encoder and decoder sequentially."
      ]
    },
    {
      "cell_type": "code",
      "metadata": {
        "id": "ZtdUoFrhmMH0",
        "colab_type": "code",
        "outputId": "ecf17ef9-5a06-4953-ea7f-5c55a0bbc925",
        "colab": {
          "base_uri": "https://localhost:8080/",
          "height": 34
        }
      },
      "source": [
        "### YOUR CODE HERE ###\n",
        "output = encoder(batch)\n",
        "output = decoder(output)\n",
        "\n",
        "print(output.size())"
      ],
      "execution_count": 0,
      "outputs": [
        {
          "output_type": "stream",
          "text": [
            "torch.Size([100, 1, 28, 28])\n"
          ],
          "name": "stdout"
        }
      ]
    },
    {
      "cell_type": "markdown",
      "metadata": {
        "id": "MuKAjgR4my_D",
        "colab_type": "text"
      },
      "source": [
        "To visualize results convert first image from the batch back to CPU. Do it for both input and output images. Use .cpu() method."
      ]
    },
    {
      "cell_type": "code",
      "metadata": {
        "id": "DMD5-MG0mIj2",
        "colab_type": "code",
        "outputId": "48d0a420-9668-4a10-8c4c-7002ca08110c",
        "colab": {
          "base_uri": "https://localhost:8080/",
          "height": 52
        }
      },
      "source": [
        "### YOUR CODE HERE ###\n",
        "input_img = batch[0].cpu() nn.MSELoss() nn.MSELoss()\n",
        "output_img = output[0].cpu()\n",
        "print(input_img.size())\n",
        "print(output_img.size()) nn.MSELoss() nn.MSELoss()"
      ],
      "execution_count": 0,
      "outputs": [
        {
          "output_type": "stream",
          "text": [
            "torch.Size([1, 28, 28])\n",
            "torch.Size([1, 28, 28])\n"
          ],
          "name": "stdout"
        }
      ]
    },
    {
      "cell_type": "markdown",
      "metadata": {
        "id": "L0DGuLO9nTWC",
        "colab_type": "text"
      },
      "source": [
        "Convert them to numpy arrays and visualize results. Use .data.numpy() to convert."
      ]
    },
    {
      "cell_type": "code",
      "metadata": {
        "id": "EdWNITVgnG2G",
        "colab_type": "code",
        "outputId": "0454ff4b-d071-462c-96e2-564c125645b6",
        "colab": {
          "base_uri": "https://localhost:8080/",
          "height": 556
        }
      },
      "source": [
        "### YOUR CODE HERE ###\n",
        "inp = input_img.data.numpy()\n",
        "out = output_img.data.numpy()\n",
        "\n",
        "print(\"Input image\")\n",
        "plt.imshow(inp[0],cmap='gray')\n",
        "plt.show()\n",
        "\n",
        "print(\"Output image\")\n",
        "plt.imshow(out[0],cmap=\"gray\")\n",
        "plt.show()"
      ],
      "execution_count": 0,
      "outputs": [
        {
          "output_type": "stream",
          "text": [
            "Input image\n"
          ],
          "name": "stdout"
        },
        {
          "output_type": "display_data",
          "data": {
            "image/png": "[encoded data removed]",
            "text/plain": [
              "<Figure size 432x288 with 1 Axes>"
            ]
          },
          "metadata": {
            "tags": []
          }
        },
        {
          "output_type": "stream",
          "text": [
            "Output image\n"
          ],
          "name": "stdout"
        },
        {
          "output_type": "display_data",
          "data": {
            "image/png": "[encoded data removed]",
            "text/plain": [
              "<Figure size 432x288 with 1 Axes>"
            ]
          },
          "metadata": {
            "tags": []
          }
        }
      ]
    },
    {
      "cell_type": "markdown",
      "metadata": {
        "id": "ChBAhKO7nqFG",
        "colab_type": "text"
      },
      "source": [
        "Take parameters from encoder and decoder. To concatenate them, simply convert to the list."
      ]
    },
    {
      "cell_type": "code",
      "metadata": {
        "id": "05IdE75XLJHn",
        "colab_type": "code",
        "outputId": "b8ae1366-c94a-46cd-830b-708f1568a0f9",
        "colab": {
          "base_uri": "https://localhost:8080/",
          "height": 52
        }
      },
      "source": [
        "### YOUR CODE HERE ###\n",
        "parameters = list(encoder.parameters())+ list(decoder.parameters())\n",
        "print(type(parameters))\n",
        "print(len(parameters))"
      ],
      "execution_count": 0,
      "outputs": [
        {
          "output_type": "stream",
          "text": [
            "<class 'list'>\n",
            "32\n"
          ],
          "name": "stdout"
        }
      ]
    },
    {
      "cell_type": "markdown",
      "metadata": {
        "id": "pIal9ErZobmr",
        "colab_type": "text"
      },
      "source": [
        "You should get list of 32 elements."
      ]
    },
    {
      "cell_type": "markdown",
      "metadata": {
        "id": "s_GEDLS5olmU",
        "colab_type": "text"
      },
      "source": [
        "Use MSE loss function. Use nn.MSELoss(), you don't need any paramethers."
      ]
    },
    {
      "cell_type": "code",
      "metadata": {
        "id": "0r1aRz7ZoDag",
        "colab_type": "code",
        "colab": {}
      },
      "source": [
        "### YOUR CODE HERE ###\n",
        "loss_func = nn.MSELoss()"
      ],
      "execution_count": 0,
      "outputs": []
    },
    {
      "cell_type": "markdown",
      "metadata": {
        "id": "EkW534pDo7Mg",
        "colab_type": "text"
      },
      "source": [
        "And Adam optimizer torch.optim.Adam. Arguments are your list parameters and lr=learning_rate, defined above."
      ]
    },
    {
      "cell_type": "code",
      "metadata": {
        "id": "yK183vumo7pf",
        "colab_type": "code",
        "colab": {}
      },
      "source": [
        "### YOUR CODE HERE ###\n",
        "optimizer = torch.optim.Adam(parameters, lr=learning_rate)"
      ],
      "execution_count": 0,
      "outputs": []
    },
    {
      "cell_type": "markdown",
      "metadata": {
        "id": "qK8-1rBeo1BN",
        "colab_type": "text"
      },
      "source": [
        "### Training\n",
        "\n",
        "Now let's train our model. All steps can be found in the [previous lab](https://colab.research.google.com/drive/1yEtyG6sK208y3xTNeEEN8eBYlUpuWFXe#scrollTo=lLYOztuGtZQr&forceEdit=true&sandboxMode=true).\n",
        "\n",
        "\n",
        "For each batch in the training phase:\n",
        "\n",
        "1.   Send the batch to the GPU: image = Variable(image).cuda()\n",
        "2.   Set the gradients to zero.\n",
        "3.   Calculate the output from the autoencoder.\n",
        "4.   Calculate the loss function.\n",
        "5.   Find partial derivatives using loss.backward().\n",
        "6.   Update the paramethers with optimizer.step().\n",
        "\n",
        "\n"
      ]
    },
    {
      "cell_type": "code",
      "metadata": {
        "id": "h0DZ_izpLPVb",
        "colab_type": "code",
        "outputId": "a871fc0f-69f4-4f58-e72e-8d0d362469fe",
        "colab": {
          "base_uri": "https://localhost:8080/",
          "height": 191
        }
      },
      "source": [
        "for i in range(epoch):\n",
        "    print(i)\n",
        "    encoder.train()\n",
        "    decoder.train()\n",
        "    for image,label in train_loader:\n",
        "        ### YOUR CODE HERE ###\n",
        "        image = Variable(image).cuda()\n",
        "        optimizer.zero_grad()\n",
        "        output = encoder(image)\n",
        "        output = decoder(output)\n",
        "        loss = loss_func(output,image)\n",
        "        loss.backward()\n",
        "        optimizer.step()"
      ],
      "execution_count": 0,
      "outputs": [
        {
          "output_type": "stream",
          "text": [
            "0\n",
            "1\n",
            "2\n",
            "3\n",
            "4\n",
            "5\n",
            "6\n",
            "7\n",
            "8\n",
            "9\n"
          ],
          "name": "stdout"
        }
      ]
    },
    {
      "cell_type": "markdown",
      "metadata": {
        "id": "rxGX2NmKpo-N",
        "colab_type": "text"
      },
      "source": [
        "Make a visualization of input and output images again."
      ]
    },
    {
      "cell_type": "code",
      "metadata": {
        "id": "gMH6sPuILQLk",
        "colab_type": "code",
        "outputId": "74ef2040-77ab-4a98-8fb3-e2320cca32f4",
        "colab": {
          "base_uri": "https://localhost:8080/",
          "height": 556
        }
      },
      "source": [
        "### YOUR CODE HERE ###\n",
        "batch,labels = next(iter(train_loader))\n",
        "batch = Variable(batch).cuda()\n",
        "\n",
        "output = encoder(batch)\n",
        "output = decoder(output)\n",
        "\n",
        "input_img = batch[0].cpu()\n",
        "output_img = output[0].cpu()\n",
        "\n",
        "inp = input_img.data.numpy()\n",
        "out = output_img.data.numpy()\n",
        "\n",
        "print(\"Input image\")\n",
        "plt.imshow(inp[0],cmap='gray')\n",
        "plt.show()\n",
        "\n",
        "print(\"Output image\")\n",
        "plt.imshow(out[0],cmap=\"gray\")\n",
        "plt.show()"
      ],
      "execution_count": 0,
      "outputs": [
        {
          "output_type": "stream",
          "text": [
            "Input image\n"
          ],
          "name": "stdout"
        },
        {
          "output_type": "display_data",
          "data": {
            "image/png": "[encoded data removed]",
            "text/plain": [
              "<Figure size 432x288 with 1 Axes>"
            ]
          },
          "metadata": {
            "tags": []
          }
        },
        {
          "output_type": "stream",
          "text": [
            "Output image\n"
          ],
          "name": "stdout"
        },
        {
          "output_type": "display_data",
          "data": {
            "image/png": "[encoded data removed]",
            "text/plain": [
              "<Figure size 432x288 with 1 Axes>"
            ]
          },
          "metadata": {
            "tags": []
          }
        }
      ]
    },
    {
      "cell_type": "markdown",
      "metadata": {
        "id": "lfa3ADH7twWN",
        "colab_type": "text"
      },
      "source": [
        "## Conclusion\n",
        "\n",
        "Congratulations, if it works!\n",
        "\n",
        "Why did we split encoder and decoder to 2 different models?\n",
        "\n",
        "How to make a denoising autoencoder?\n",
        "\n",
        "opt: change the code to make this autoencoder works as denoising autoencoder.\n",
        "\n",
        "# References\n",
        "\n",
        "https://github.com/GunhoChoi/Kind-PyTorch-Tutorial/blob/master/06_Autoencoder_Model_Save/Autoencoder_Model_Save.ipynb"
      ]
    }
  ]
}