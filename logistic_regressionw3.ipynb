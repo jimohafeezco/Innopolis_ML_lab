{
  "nbformat": 4,
  "nbformat_minor": 0,
  "metadata": {
    "colab": {
      "name": "Week3MSWithAnswers.ipynb",
      "provenance": []
    },
    "kernelspec": {
      "name": "python3",
      "display_name": "Python 3"
    }
  },
  "cells": [
    {
      "cell_type": "markdown",
      "metadata": {
        "id": "YQPaHbIjl01G",
        "colab_type": "text"
      },
      "source": [
        "![alt text](https://encrypted-tbn0.gstatic.com/images?q=tbn:ANd9GcRjFm003pSAOtHmnUm7e--Xquwo90Hp5-U_3wSZrkChGz4tQYWZ)\n",
        "# Introduction to Machine Learning\n",
        "##Week 3: Classification. Logistic regression\n",
        "\n",
        "In this lab, you will implement your own classifier based on Logistic Regression algorithm. You will apply gradient descent to a new problem. We will revisit linear regression to apply it for polynomial case and explore splines and compare them with polynomial regression.\n",
        "\n",
        "Plan for this lab:\n",
        "\n",
        "1.    Basic visualizations\n",
        "2.    Logistic regression\n",
        "3.    Confusion matrix\n",
        "4.    Polynomial regression\n",
        "5.    Splines"
      ]
    },
    {
      "cell_type": "markdown",
      "metadata": {
        "id": "DJE95f4yGU_i",
        "colab_type": "text"
      },
      "source": [
        "###Concepts Visualization\n",
        "\n",
        "Here are main equations behind Logistic Regression:\n",
        "\n",
        "$\\hat p(x) = \\frac{e^{\\beta_0 + \\beta_1 x}}{1+e^{\\beta_0 + \\beta_1 x}}$\n",
        "\n",
        "$L(\\hat{p}(x_i), y_i) = -y_i\\log (\\hat{p}(x_i)) - (1 - y)_i\\log (1 -\\hat{p}(x_i))$\n",
        "\n",
        "$L(\\hat{p}(x_i), y_i) = \\left\\{\\begin{matrix}\n",
        "\\ - log (\\hat{p}(x_i)), & y_i=1\\\\ \n",
        "\\ - log (1 -\\hat{p}(x_i)), & y_i=0\n",
        "\\end{matrix}\\right.$\n",
        "\n",
        "$\\hat y = \\left\\{\\begin{matrix}\n",
        "1 && \\hat p(x) > threshold\\\\ \n",
        "0 && otherwise \n",
        "\\end{matrix}\\right.$\n",
        "\n",
        "<br>\n",
        "\n",
        "Let's now see how shape of $\\hat p(x)$ depend on its parameters:"
      ]
    },
    {
      "cell_type": "code",
      "metadata": {
        "id": "8mwZdElFli7v",
        "colab_type": "code",
        "colab": {}
      },
      "source": [
        "import numpy as np\n",
        "import matplotlib.pyplot as plt\n",
        "%matplotlib inline "
      ],
      "execution_count": 0,
      "outputs": []
    },
    {
      "cell_type": "code",
      "metadata": {
        "id": "zibEd5lsI2Xn",
        "colab_type": "code",
        "outputId": "26f3493d-bfce-498a-b713-589794df9dbc",
        "colab": {
          "base_uri": "https://localhost:8080/",
          "height": 265
        }
      },
      "source": [
        "x = np.arange(-10, 10, 0.01)\n",
        "\n",
        "def plot(b0, b1):\n",
        "    p = np.exp(b0 + b1 * x) / (1 + np.exp(b0 + b1 * x))\n",
        "    label = \"b0 = {}, b1 = {}\".format(b0, b1)\n",
        "    plt.plot(x, p, label=label)\n",
        "\n",
        "plot(0,1)\n",
        "plot(0,2)\n",
        "plot(0,3)\n",
        "plot(5,1)\n",
        "plt.legend()\n",
        "plt.show()"
      ],
      "execution_count": 0,
      "outputs": [
        {
          "output_type": "display_data",
          "data": {
            "image/png": "[encoded data removed]",
            "text/plain": [
              "<Figure size 432x288 with 1 Axes>"
            ]
          },
          "metadata": {
            "tags": []
          }
        }
      ]
    },
    {
      "cell_type": "markdown",
      "metadata": {
        "id": "_rqF7CozNK1F",
        "colab_type": "text"
      },
      "source": [
        "Let's now visualize the components of the Loss function:"
      ]
    },
    {
      "cell_type": "code",
      "metadata": {
        "id": "0nQEsc6XJbDp",
        "colab_type": "code",
        "outputId": "6d1ca58b-5b8e-41de-d7f2-95f8215f4e72",
        "colab": {
          "base_uri": "https://localhost:8080/",
          "height": 265
        }
      },
      "source": [
        "x = np.arange(0.001, 1, 0.001)\n",
        "y1 = -np.log(x)\n",
        "y0 = -np.log(1-x)\n",
        "\n",
        "plt.plot(x,y1, label=\"if y = 1\")\n",
        "plt.plot(x,y0, label=\"if y = 0\")\n",
        "plt.legend()\n",
        "plt.show()"
      ],
      "execution_count": 0,
      "outputs": [
        {
          "output_type": "display_data",
          "data": {
            "image/png": "[encoded data removed]",
            "text/plain": [
              "<Figure size 432x288 with 1 Axes>"
            ]
          },
          "metadata": {
            "tags": []
          }
        }
      ]
    },
    {
      "cell_type": "markdown",
      "metadata": {
        "id": "9xCc9vowNp0l",
        "colab_type": "text"
      },
      "source": [
        "###Logistic Regression\n",
        "\n",
        "Your task now is to implement Logistic Regression using Gradient Descent algorithm (recall previous week!).\n",
        "We will be working with simple classification dataset called **Iris**, which is provided by Sklearn library. Let's take a look on it."
      ]
    },
    {
      "cell_type": "code",
      "metadata": {
        "id": "KaTcyQAVN0cW",
        "colab_type": "code",
        "outputId": "91067e5e-72ac-4095-a748-4a15dc469c5d",
        "colab": {
          "base_uri": "https://localhost:8080/",
          "height": 1000
        }
      },
      "source": [
        "from sklearn.datasets import load_iris\n",
        "iris = load_iris()\n",
        "print(iris.DESCR)"
      ],
      "execution_count": 0,
      "outputs": [
        {
          "output_type": "stream",
          "text": [
            ".. _iris_dataset:\n",
            "\n",
            "Iris plants dataset\n",
            "--------------------\n",
            "\n",
            "**Data Set Characteristics:**\n",
            "\n",
            "    :Number of Instances: 150 (50 in each of three classes)\n",
            "    :Number of Attributes: 4 numeric, predictive attributes and the class\n",
            "    :Attribute Information:\n",
            "        - sepal length in cm\n",
            "        - sepal width in cm\n",
            "        - petal length in cm\n",
            "        - petal width in cm\n",
            "        - class:\n",
            "                - Iris-Setosa\n",
            "                - Iris-Versicolour\n",
            "                - Iris-Virginica\n",
            "                \n",
            "    :Summary Statistics:\n",
            "\n",
            "    ============== ==== ==== ======= ===== ====================\n",
            "                    Min  Max   Mean    SD   Class Correlation\n",
            "    ============== ==== ==== ======= ===== ====================\n",
            "    sepal length:   4.3  7.9   5.84   0.83    0.7826\n",
            "    sepal width:    2.0  4.4   3.05   0.43   -0.4194\n",
            "    petal length:   1.0  6.9   3.76   1.76    0.9490  (high!)\n",
            "    petal width:    0.1  2.5   1.20   0.76    0.9565  (high!)\n",
            "    ============== ==== ==== ======= ===== ====================\n",
            "\n",
            "    :Missing Attribute Values: None\n",
            "    :Class Distribution: 33.3% for each of 3 classes.\n",
            "    :Creator: R.A. Fisher\n",
            "    :Donor: Michael Marshall (MARSHALL%PLU@io.arc.nasa.gov)\n",
            "    :Date: July, 1988\n",
            "\n",
            "The famous Iris database, first used by Sir R.A. Fisher. The dataset is taken\n",
            "from Fisher's paper. Note that it's the same as in R, but not as in the UCI\n",
            "Machine Learning Repository, which has two wrong data points.\n",
            "\n",
            "This is perhaps the best known database to be found in the\n",
            "pattern recognition literature.  Fisher's paper is a classic in the field and\n",
            "is referenced frequently to this day.  (See Duda & Hart, for example.)  The\n",
            "data set contains 3 classes of 50 instances each, where each class refers to a\n",
            "type of iris plant.  One class is linearly separable from the other 2; the\n",
            "latter are NOT linearly separable from each other.\n",
            "\n",
            ".. topic:: References\n",
            "\n",
            "   - Fisher, R.A. \"The use of multiple measurements in taxonomic problems\"\n",
            "     Annual Eugenics, 7, Part II, 179-188 (1936); also in \"Contributions to\n",
            "     Mathematical Statistics\" (John Wiley, NY, 1950).\n",
            "   - Duda, R.O., & Hart, P.E. (1973) Pattern Classification and Scene Analysis.\n",
            "     (Q327.D83) John Wiley & Sons.  ISBN 0-471-22361-1.  See page 218.\n",
            "   - Dasarathy, B.V. (1980) \"Nosing Around the Neighborhood: A New System\n",
            "     Structure and Classification Rule for Recognition in Partially Exposed\n",
            "     Environments\".  IEEE Transactions on Pattern Analysis and Machine\n",
            "     Intelligence, Vol. PAMI-2, No. 1, 67-71.\n",
            "   - Gates, G.W. (1972) \"The Reduced Nearest Neighbor Rule\".  IEEE Transactions\n",
            "     on Information Theory, May 1972, 431-433.\n",
            "   - See also: 1988 MLC Proceedings, 54-64.  Cheeseman et al\"s AUTOCLASS II\n",
            "     conceptual clustering system finds 3 classes in the data.\n",
            "   - Many, many more ...\n"
          ],
          "name": "stdout"
        }
      ]
    },
    {
      "cell_type": "code",
      "metadata": {
        "id": "tsBUYP5ITu1U",
        "colab_type": "code",
        "outputId": "718be17a-abe3-429c-c53d-2933e9d1abab",
        "colab": {
          "base_uri": "https://localhost:8080/",
          "height": 208
        }
      },
      "source": [
        "print('First 10 rows of iris dataset:')\n",
        "iris.data[:10,:]"
      ],
      "execution_count": 0,
      "outputs": [
        {
          "output_type": "stream",
          "text": [
            "First 10 rows of iris dataset:\n"
          ],
          "name": "stdout"
        },
        {
          "output_type": "execute_result",
          "data": {
            "text/plain": [
              "array([[5.1, 3.5, 1.4, 0.2],\n",
              "       [4.9, 3. , 1.4, 0.2],\n",
              "       [4.7, 3.2, 1.3, 0.2],\n",
              "       [4.6, 3.1, 1.5, 0.2],\n",
              "       [5. , 3.6, 1.4, 0.2],\n",
              "       [5.4, 3.9, 1.7, 0.4],\n",
              "       [4.6, 3.4, 1.4, 0.3],\n",
              "       [5. , 3.4, 1.5, 0.2],\n",
              "       [4.4, 2.9, 1.4, 0.2],\n",
              "       [4.9, 3.1, 1.5, 0.1]])"
            ]
          },
          "metadata": {
            "tags": []
          },
          "execution_count": 5
        }
      ]
    },
    {
      "cell_type": "code",
      "metadata": {
        "id": "dMunDW8eUJmK",
        "colab_type": "code",
        "outputId": "99ee4a87-1013-458b-921d-df0978d6bc9c",
        "colab": {
          "base_uri": "https://localhost:8080/",
          "height": 156
        }
      },
      "source": [
        "print('Outputs of iris dataset:')\n",
        "iris.target"
      ],
      "execution_count": 0,
      "outputs": [
        {
          "output_type": "stream",
          "text": [
            "Outputs of iris dataset:\n"
          ],
          "name": "stdout"
        },
        {
          "output_type": "execute_result",
          "data": {
            "text/plain": [
              "array([0, 0, 0, 0, 0, 0, 0, 0, 0, 0, 0, 0, 0, 0, 0, 0, 0, 0, 0, 0, 0, 0,\n",
              "       0, 0, 0, 0, 0, 0, 0, 0, 0, 0, 0, 0, 0, 0, 0, 0, 0, 0, 0, 0, 0, 0,\n",
              "       0, 0, 0, 0, 0, 0, 1, 1, 1, 1, 1, 1, 1, 1, 1, 1, 1, 1, 1, 1, 1, 1,\n",
              "       1, 1, 1, 1, 1, 1, 1, 1, 1, 1, 1, 1, 1, 1, 1, 1, 1, 1, 1, 1, 1, 1,\n",
              "       1, 1, 1, 1, 1, 1, 1, 1, 1, 1, 1, 1, 2, 2, 2, 2, 2, 2, 2, 2, 2, 2,\n",
              "       2, 2, 2, 2, 2, 2, 2, 2, 2, 2, 2, 2, 2, 2, 2, 2, 2, 2, 2, 2, 2, 2,\n",
              "       2, 2, 2, 2, 2, 2, 2, 2, 2, 2, 2, 2, 2, 2, 2, 2, 2, 2])"
            ]
          },
          "metadata": {
            "tags": []
          },
          "execution_count": 6
        }
      ]
    },
    {
      "cell_type": "code",
      "metadata": {
        "id": "prvA5uhGXhbN",
        "colab_type": "code",
        "outputId": "0025c296-2e5c-462d-a557-a1a8e1845165",
        "colab": {
          "base_uri": "https://localhost:8080/",
          "height": 297
        }
      },
      "source": [
        "import seaborn as sns\n",
        "# we can only plot for any two features, let's take the first ones\n",
        "sns.scatterplot(x=iris.data[:,:1].ravel(), y=iris.data[:,1:2].ravel(), hue=iris.target.ravel(), palette=sns.color_palette(\"bright\", 3))\n",
        "plt.xlabel('Sepal length')\n",
        "plt.ylabel('Sepal width')\n",
        "print({i:iris.target_names[i] for i in range(0,iris.target_names.size)})"
      ],
      "execution_count": 0,
      "outputs": [
        {
          "output_type": "stream",
          "text": [
            "{0: 'setosa', 1: 'versicolor', 2: 'virginica'}\n"
          ],
          "name": "stdout"
        },
        {
          "output_type": "display_data",
          "data": {
            "image/png": "[encoded data removed]",
            "text/plain": [
              "<Figure size 432x288 with 1 Axes>"
            ]
          },
          "metadata": {
            "tags": []
          }
        }
      ]
    },
    {
      "cell_type": "markdown",
      "metadata": {
        "id": "n1pt5k8gPq1z",
        "colab_type": "text"
      },
      "source": [
        "Now that we have an idea about the dataset, our task is classify iris species given their characteristics. For the sake of simplificity, let's try to predict iris type based on just one feature. Apply gradient descent algorithm from the previous lab. Complete needed methods in LogisticRegressionGD class."
      ]
    },
    {
      "cell_type": "code",
      "metadata": {
        "id": "nr4tgseNevZf",
        "colab_type": "code",
        "outputId": "2d58a8c2-2935-493b-8000-526d76af5005",
        "colab": {
          "base_uri": "https://localhost:8080/",
          "height": 317
        }
      },
      "source": [
        "from sklearn.model_selection import train_test_split\n",
        "from sklearn.linear_model import LogisticRegression\n",
        "from sklearn.metrics import accuracy_score\n",
        "\n",
        "\n",
        "class LogisticRegressionGD:\n",
        "  \n",
        "    def __init__(self, b0 = 0, b1 = 1, alpha = 0.001, thresh = 0.5, p_precision = 0.0001):\n",
        "      self.b0 = b0 # initial b0 value\n",
        "      self.b1 = b1 # initial b1 value\n",
        "      self.alpha = alpha # learning rate\n",
        "      self.threshold = thresh # threshold for decision-making, from 0 to 1\n",
        "      self.params_precision = p_precision # sensitivity to parameters change, stop iterating if difference is less than it\n",
        "      self.train_loss = [] # list of train loss values for every iteration \n",
        "      self.test_loss = [] # list of test loss values for every iteration \n",
        "    \n",
        "    def __sigma(self, z):\n",
        "      \"\"\"\n",
        "      Calculates sigmoid function\n",
        "      input:\n",
        "      z - numpy array\n",
        "      output:\n",
        "      result of applying sigmoid function\n",
        "      \"\"\"\n",
        "      ### START CODE HERE ###\n",
        "      e = np.exp(z)      \n",
        "      return e / (1 + e)\n",
        "      ### END CODE HERE ###\n",
        "           \n",
        "    def __grad(self, X_train, y_train):\n",
        "      \"\"\"      \n",
        "      Computes gradient\n",
        "      input:\n",
        "      x - train data\n",
        "      y - response\n",
        "      output:\n",
        "      Partial derivatives wrt b0, b1\n",
        "      \"\"\"\n",
        "      ### START CODE HERE ###\n",
        "      z = self.b0 + self.b1 * X_train\n",
        "      db0vec = self.__sigma(z).ravel() - y_train\n",
        "      dLdb0 = sum(db0vec)\n",
        "      dLdb1 = float(np.dot(db0vec, X_train))\n",
        "      ### END CODE HERE ###\n",
        "      return dLdb0, dLdb1      \n",
        "        \n",
        "    def __predict_prob(self, X):\n",
        "      \"\"\"\n",
        "      Predicts probabilities\n",
        "      input:\n",
        "      X - data\n",
        "      output:\n",
        "      p(x), probabilities\n",
        "      \"\"\"\n",
        "      ### START CODE HERE ###\n",
        "      z = self.b0 + self.b1 * X\n",
        "      return self.__sigma(z)\n",
        "      ### END CODE HERE ###\n",
        "         \n",
        "    def __loss(self, X, y):\n",
        "      \"\"\"\n",
        "      Calculates current loss, calls __predict_prob method\n",
        "      \"\"\"\n",
        "      ### START CODE HERE ###\n",
        "      prob = self.__predict_prob(X)\n",
        "      result = -np.dot(y, np.log(prob)) - np.dot((1-y), np.log(1 - prob))\n",
        "      return result / y.size\n",
        "      ### END CODE HERE ###\n",
        "    \n",
        "    def predict(self, X):\n",
        "      \"\"\"\n",
        "      Predicts class (0/1), from probabilities, based on threshold\n",
        "      input:\n",
        "      X - data\n",
        "      output:\n",
        "      binary\n",
        "      \"\"\"\n",
        "      ### START CODE HERE ###\n",
        "      prob = self.__predict_prob(X)\n",
        "      return prob > self.threshold\n",
        "      ### END CODE HERE ###\n",
        "    \n",
        "    def plot_loss(self):\n",
        "      \"\"\"\n",
        "      Plots train/test loss over time, using self.train_loss and self.test_loss \n",
        "      \"\"\"\n",
        "      iters = np.arange(len(self.train_loss))\n",
        "      plt.plot(iters, self.train_loss, label = \"train_loss\")\n",
        "      plt.plot(iters, self.test_loss, label = \"test_loss\")\n",
        "      plt.legend()\n",
        "      plt.xlabel('Iterations')\n",
        "      plt.ylabel('Loss')\n",
        "      plt.show()\n",
        "    \n",
        "    def fit(self, X_train, y_train, X_test, y_test):\n",
        "      \"\"\"\n",
        "      Main method. Performs gradient descent. Iterates until both parameters\n",
        "      don't change by more that self.params_precision. Collects train_loss and test_loss\n",
        "      input:\n",
        "      train and test data\n",
        "      output:\n",
        "      no output, b0 and b1 variables get updated     \n",
        "      \"\"\"      \n",
        "      dLdb0, dLdb1 = self.__grad(X_train, y_train)\n",
        "      delta0 = - self.alpha * dLdb0\n",
        "      delta1 = - self.alpha * dLdb1\n",
        "      while(abs(delta0) > self.params_precision or abs(delta1) > self.params_precision):\n",
        "          ### START CODE HERE ###\n",
        "          self.b0 += delta0\n",
        "          self.b1 += delta1\n",
        "          dLdb0, dLdb1 = self.__grad(X_train, y_train)\n",
        "          delta0 = - self.alpha * dLdb0\n",
        "          delta1 = - self.alpha * dLdb1\n",
        "          self.train_loss.append(self.__loss(X_train, y_train))\n",
        "          self.test_loss.append(self.__loss(X_test, y_test))\n",
        "          ### END CODE HERE ###\n",
        "\n",
        "\n",
        "# Let's take the first data column and first two classes for our experiments\n",
        "y = iris.target\n",
        "X = iris.data[y!=2,0:1]\n",
        "y = y[y!=2]\n",
        "\n",
        "X_train, X_test, y_train, y_test = train_test_split(X, y, test_size=0.2, random_state = 10)\n",
        "model = LogisticRegressionGD()\n",
        "model.fit(X_train, y_train, X_test, y_test)\n",
        "y_pred = model.predict(X_test)\n",
        "accuracy = accuracy_score(y_pred, y_test)\n",
        "print(\"Resulting acuracy:\", accuracy)\n",
        "print(\"b0, b1:\", model.b0, model.b1)\n",
        "\n",
        "model.plot_loss()"
      ],
      "execution_count": 0,
      "outputs": [
        {
          "output_type": "stream",
          "text": [
            "Resulting acuracy: 0.85\n",
            "b0, b1: -26.23287761967686 4.819636138003015\n"
          ],
          "name": "stdout"
        },
        {
          "output_type": "display_data",
          "data": {
            "image/png": "[encoded data removed]",
            "text/plain": [
              "<Figure size 432x288 with 1 Axes>"
            ]
          },
          "metadata": {
            "tags": []
          }
        }
      ]
    },
    {
      "cell_type": "code",
      "metadata": {
        "id": "VfKeptkTqPxT",
        "colab_type": "code",
        "outputId": "dcbaa5af-8456-4c2f-d2f9-570ea1d22dca",
        "colab": {
          "base_uri": "https://localhost:8080/",
          "height": 265
        }
      },
      "source": [
        "# Visualizing the resulting sigmoid\n",
        "x = np.arange(-10, 10, 0.01)\n",
        "p = np.exp(model.b0 + model.b1 * x) / (1 + np.exp(model.b0 + model.b1 * x))\n",
        "plt.plot(x, p, label=\"sigmoid\")\n",
        "plt.plot(iris.data[iris.target==0,0:1], [0]*50, 'bo', markersize=3)\n",
        "plt.plot(iris.data[iris.target==1,0:1], [1]*50, 'ro', markersize=3)\n",
        "plt.xlim(4, 7.5)\n",
        "plt.show()"
      ],
      "execution_count": 0,
      "outputs": [
        {
          "output_type": "display_data",
          "data": {
            "image/png": "[encoded data removed]",
            "text/plain": [
              "<Figure size 432x288 with 1 Axes>"
            ]
          },
          "metadata": {
            "tags": []
          }
        }
      ]
    },
    {
      "cell_type": "markdown",
      "metadata": {
        "id": "EUrAYLcXDrLh",
        "colab_type": "text"
      },
      "source": [
        "###Sklearn solution"
      ]
    },
    {
      "cell_type": "code",
      "metadata": {
        "id": "sN853LvN-4yV",
        "colab_type": "code",
        "outputId": "27d41600-544a-46c5-d643-7c2b112d2f19",
        "colab": {
          "base_uri": "https://localhost:8080/",
          "height": 35
        }
      },
      "source": [
        "from sklearn.linear_model import LogisticRegression\n",
        "\n",
        "model_lib = LogisticRegression(solver='liblinear', multi_class='ovr')\n",
        "model_lib.fit(X, y)\n",
        "y_pred = model_lib.predict(X_test)\n",
        "accuracy = accuracy_score(y_pred, y_test)\n",
        "print(\"Sklearn accuracy:\", accuracy)"
      ],
      "execution_count": 0,
      "outputs": [
        {
          "output_type": "stream",
          "text": [
            "Sklearn accuracy: 0.85\n"
          ],
          "name": "stdout"
        }
      ]
    },
    {
      "cell_type": "markdown",
      "metadata": {
        "id": "gbN58EiJDzW6",
        "colab_type": "text"
      },
      "source": [
        "###Confusion matrix\n",
        "\n",
        "\n",
        "Write your own code to fill in confusion matrix based on 2 arrays of labels - true (actual) ones and predicted. Ideally, it should generalize to any number of classses."
      ]
    },
    {
      "cell_type": "code",
      "metadata": {
        "id": "P9fIYaKzERW0",
        "colab_type": "code",
        "colab": {}
      },
      "source": [
        "true_labels = np.array([2, 2, 0, 0, 1, 0, 0, 2, 1, 1, 0, 0, 1, 2, 1, 0])\n",
        "pred_labels = np.array([2, 1, 0, 0, 0, 0, 0, 1, 0, 2, 2, 1, 0, 0, 2, 2])\n"
      ],
      "execution_count": 0,
      "outputs": []
    },
    {
      "cell_type": "code",
      "metadata": {
        "id": "pFwVr2qnK5Bd",
        "colab_type": "code",
        "outputId": "b610f3e7-9526-4aa5-f7ff-383bbd1fffe4",
        "colab": {
          "base_uri": "https://localhost:8080/",
          "height": 69
        }
      },
      "source": [
        "def calc_confusion_matrix(true_labels, pred_labels):\n",
        "  \"\"\"\n",
        "  Calculates confusion matrix: \n",
        "  True labels along Y axis, Predicted ones along X axis\n",
        "  \"\"\"\n",
        "  ### START CODE HERE ###\n",
        "  num_labels = np.unique(true_labels).size\n",
        "  cm = np.zeros((num_labels, num_labels), dtype=int)\n",
        "  for a, p in zip(true_labels, pred_labels):\n",
        "                cm[a][p] += 1\n",
        "  return cm\n",
        "  ### END CODE HERE ###\n",
        "\n",
        "calc_confusion_matrix(true_labels, pred_labels)"
      ],
      "execution_count": 0,
      "outputs": [
        {
          "output_type": "execute_result",
          "data": {
            "text/plain": [
              "array([[4, 1, 2],\n",
              "       [3, 0, 2],\n",
              "       [1, 2, 1]])"
            ]
          },
          "metadata": {
            "tags": []
          },
          "execution_count": 12
        }
      ]
    },
    {
      "cell_type": "code",
      "metadata": {
        "id": "wzMurfJeLpTY",
        "colab_type": "code",
        "outputId": "3144537e-b7fc-420f-a1d0-80cb14898e74",
        "colab": {
          "base_uri": "https://localhost:8080/",
          "height": 69
        }
      },
      "source": [
        "# Run this block of code to see what your result should look like\n",
        "from sklearn.metrics import confusion_matrix\n",
        "confusion_matrix(true_labels, pred_labels)"
      ],
      "execution_count": 0,
      "outputs": [
        {
          "output_type": "execute_result",
          "data": {
            "text/plain": [
              "array([[4, 1, 2],\n",
              "       [3, 0, 2],\n",
              "       [1, 2, 1]])"
            ]
          },
          "metadata": {
            "tags": []
          },
          "execution_count": 13
        }
      ]
    },
    {
      "cell_type": "markdown",
      "metadata": {
        "id": "pHeMmxou2rxP",
        "colab_type": "text"
      },
      "source": [
        "###Polynomial Regression\n",
        "\n",
        "$y = b_0 + b_1x + b_2x^2 +....+ b_nx^n$\n",
        "\n",
        "The model is still linear wrt $b$, hence, we can use linear regression."
      ]
    },
    {
      "cell_type": "code",
      "metadata": {
        "id": "lhNmnei-4rLr",
        "colab_type": "code",
        "outputId": "44070fb4-a18c-496d-ef05-bc2448bbf10a",
        "colab": {
          "base_uri": "https://localhost:8080/",
          "height": 265
        }
      },
      "source": [
        "from sklearn.preprocessing import PolynomialFeatures\n",
        "from sklearn.linear_model import LinearRegression\n",
        "\n",
        "x = np.linspace(0, 10, 50)\n",
        "y = np.cos(-x**2/9.0) + np.random.normal(0, 0.1, (x.size))\n",
        "\n",
        "plt.plot(x,y, 'bo')\n",
        "\n",
        "\n",
        "def fit_polynomial(x, y, degree):\n",
        "  \"\"\"\n",
        "  Produces polynomial features for x and applies linear regression on (x,y)\n",
        "  \"\"\"\n",
        "  poly_features = PolynomialFeatures(degree=degree)    \n",
        "  X_poly = poly_features.fit_transform(x.reshape(-1, 1))    \n",
        "  model = LinearRegression()\n",
        "  model.fit(X_poly, y)\n",
        "  return model\n",
        "  \n",
        "def apply_polynomial(model, x):\n",
        "  \"\"\"\n",
        "  Applies learned model on x\n",
        "  Returns predictions for each of x points\n",
        "  \"\"\"\n",
        "  ### START CODE HERE ###\n",
        "  degree = model.coef_.size - 1\n",
        "  poly_features = PolynomialFeatures(degree=degree)\n",
        "  X_poly = poly_features.fit_transform(x.reshape(-1, 1))    \n",
        "  y = model.predict(X_poly)\n",
        "  return y\n",
        "  ### END CODE HERE ###\n",
        "  \n",
        "# find a degree of polynomial which fits the data best\n",
        "model = fit_polynomial(x, y, 6)\n",
        "p_y = apply_polynomial(model, x)\n",
        "plt.plot(x, p_y,label=\"polynomial\")\n",
        "plt.legend()\n",
        "plt.show()"
      ],
      "execution_count": 0,
      "outputs": [
        {
          "output_type": "display_data",
          "data": {
            "image/png": "[encoded data removed]",
            "text/plain": [
              "<Figure size 432x288 with 1 Axes>"
            ]
          },
          "metadata": {
            "tags": []
          }
        }
      ]
    },
    {
      "cell_type": "markdown",
      "metadata": {
        "id": "A94Qxec4QVtu",
        "colab_type": "text"
      },
      "source": [
        "### Splines\n",
        "\n",
        "Below we will see the examples of using splines functionality in different libraries"
      ]
    },
    {
      "cell_type": "code",
      "metadata": {
        "id": "LqOI0RqUx7tu",
        "colab_type": "code",
        "outputId": "3bd77fd0-9a77-467e-c4db-af2510afebd0",
        "colab": {
          "base_uri": "https://localhost:8080/",
          "height": 141
        }
      },
      "source": [
        "!pip install csaps"
      ],
      "execution_count": 0,
      "outputs": [
        {
          "output_type": "stream",
          "text": [
            "Collecting csaps\n",
            "  Downloading https://files.pythonhosted.org/packages/31/44/6f6feb977bde12d92f116da2d65fcd9e60d188f2890e92335870ff8f0176/csaps-0.7.0-py3-none-any.whl\n",
            "Requirement already satisfied: numpy>=0.12.1 in /usr/local/lib/python3.6/dist-packages (from csaps) (1.17.4)\n",
            "Requirement already satisfied: scipy>=0.19.1 in /usr/local/lib/python3.6/dist-packages (from csaps) (1.3.3)\n",
            "Installing collected packages: csaps\n",
            "Successfully installed csaps-0.7.0\n"
          ],
          "name": "stdout"
        }
      ]
    },
    {
      "cell_type": "code",
      "metadata": {
        "id": "Xn49hRv1xw4M",
        "colab_type": "code",
        "outputId": "ad1873f6-7e04-4616-acf4-17d0424ba349",
        "colab": {
          "base_uri": "https://localhost:8080/",
          "height": 269
        }
      },
      "source": [
        "# smoothing spline example. try changing smooth coefficient\n",
        "# https://pypi.org/project/csaps/\n",
        "import csaps\n",
        "\n",
        "np.random.seed(1)\n",
        "\n",
        "size = 10\n",
        "x = np.linspace(-5., 5., size)\n",
        "y = np.exp(-(x/2.5)**2) + (np.random.rand(size) - 0.2) * 0.3\n",
        "\n",
        "sp = csaps.UnivariateCubicSmoothingSpline(x, y, smooth=0.95)\n",
        "\n",
        "xs = np.linspace(x[0], x[-1], 150)\n",
        "ys = sp(xs)\n",
        "\n",
        "plt.plot(x, y, 'o', xs, ys, '-')\n",
        "plt.show()"
      ],
      "execution_count": 0,
      "outputs": [
        {
          "output_type": "display_data",
          "data": {
            "image/png": "[encoded data removed]",
            "text/plain": [
              "<Figure size 432x288 with 1 Axes>"
            ]
          },
          "metadata": {
            "tags": []
          }
        }
      ]
    },
    {
      "cell_type": "code",
      "metadata": {
        "id": "wOQ4lKrXDPtx",
        "colab_type": "code",
        "outputId": "1561dd17-5bc4-424d-b081-08c49bfa24f6",
        "colab": {
          "base_uri": "https://localhost:8080/",
          "height": 335
        }
      },
      "source": [
        "# B-spline example\n",
        "import scipy.interpolate as interpolate\n",
        "\n",
        "size = 25\n",
        "x = np.linspace(-5., 5., size)\n",
        "y = np.exp(-(x/2.5)**2) + (np.random.rand(size) - 0.2) * 0.3\n",
        "\n",
        "# Fit B-spline and get parameters\n",
        "# important parameters: s-smoothing, k - degree\n",
        "t, c, k = interpolate.splrep(x, y, s=0.5, k=1)\n",
        "print('''\\\n",
        "t: {}\n",
        "c: {}\n",
        "k: {}\n",
        "'''.format(t, c, k))\n",
        "N = 100\n",
        "xmin, xmax = x.min(), x.max()\n",
        "xx = np.linspace(xmin, xmax, N)\n",
        "\n",
        "# Create B-spline object for plotting and prediction\n",
        "spline = interpolate.BSpline(t, c, k, extrapolate=False)\n",
        "\n",
        "plt.plot(x, y, 'bo', label='Original points')\n",
        "plt.plot(xx, spline(xx), 'r', label='BSpline')\n",
        "plt.grid()\n",
        "plt.legend(loc='best')\n",
        "plt.show()"
      ],
      "execution_count": 0,
      "outputs": [
        {
          "output_type": "stream",
          "text": [
            "t: [-5. -5.  0.  5.  5.]\n",
            "c: [0.02685328 1.0307278  0.05289929 0.         0.        ]\n",
            "k: 1\n",
            "\n"
          ],
          "name": "stdout"
        },
        {
          "output_type": "display_data",
          "data": {
            "image/png": "[encoded data removed]",
            "text/plain": [
              "<Figure size 432x288 with 1 Axes>"
            ]
          },
          "metadata": {
            "tags": []
          }
        }
      ]
    },
    {
      "cell_type": "markdown",
      "metadata": {
        "id": "be08TTBEP8z8",
        "colab_type": "text"
      },
      "source": [
        "####Polynomial regression versus splines\n",
        "- Splines achieve better results with less order polynomial functions\n",
        "- Polynomial regression is prone to outliers whereas in splines they only affect function in some interval between the knots"
      ]
    },
    {
      "cell_type": "code",
      "metadata": {
        "id": "uMO9kPCaNYvm",
        "colab_type": "code",
        "outputId": "c6f96111-297a-4c13-a49f-c6bd8a3dbc25",
        "colab": {
          "base_uri": "https://localhost:8080/",
          "height": 265
        }
      },
      "source": [
        "x = np.linspace(0, 10, 50)\n",
        "y = np.cos(-x**2/9.0) + np.random.normal(0, 0.1, (x.size))\n",
        "plt.plot(x, y, 'bo', label='Original points')\n",
        "\n",
        "model = fit_polynomial(x, y, 3)\n",
        "p_y = apply_polynomial(model, x)\n",
        "plt.plot(x, p_y,label=\"polynomial(3)\")\n",
        "\n",
        "\n",
        "t, c, k = interpolate.splrep(x, y, s=0.85, k=3)\n",
        "spline = interpolate.BSpline(t, c, k, extrapolate=False)\n",
        "plt.plot(x, spline(x), 'r', label='BSpline (3)')\n",
        "\n",
        "\n",
        "plt.legend()\n",
        "plt.show()\n"
      ],
      "execution_count": 0,
      "outputs": [
        {
          "output_type": "display_data",
          "data": {
            "image/png": "[encoded data removed]",
            "text/plain": [
              "<Figure size 432x288 with 1 Axes>"
            ]
          },
          "metadata": {
            "tags": []
          }
        }
      ]
    }
  ]
}